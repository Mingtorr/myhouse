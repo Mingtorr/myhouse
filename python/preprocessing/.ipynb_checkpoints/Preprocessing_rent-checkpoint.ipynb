{
 "cells": [
  {
   "cell_type": "code",
   "execution_count": 1,
   "id": "784ba6f9",
   "metadata": {},
   "outputs": [],
   "source": [
    "import requests\n",
    "from urllib.error import URLError, HTTPError\n",
    "from http.client import IncompleteRead\n",
    "from time import sleep"
   ]
  },
  {
   "cell_type": "code",
   "execution_count": 2,
   "id": "e30af2f8",
   "metadata": {},
   "outputs": [],
   "source": [
    "# kakao api\n",
    "APP_KEY = \"\"\n",
    "kakao_url = \"https://dapi.kakao.com/v2/local/search/address.json\"\n",
    "kakao_headers = {\"Authorization\" : \"KakaoAK {}\".format(APP_KEY)}"
   ]
  },
  {
   "cell_type": "code",
   "execution_count": 21,
   "id": "097bbb7f",
   "metadata": {},
   "outputs": [],
   "source": [
    "def kakao_req(address):\n",
    "#     print('HTTP Method: %s' % method)\n",
    "#     print('Request URL: %s' % kakao_url)\n",
    "#     print('Headers: %s' % kakao_headers)\n",
    "#     print('QueryString: %s' % params)\n",
    "    kakao_url_string = str(kakao_url)+ '?query='+ str(address)\n",
    "    try:\n",
    "        resultXML = requests.get(kakao_url_string, headers=kakao_headers)\n",
    "    except HTTPError as e:\n",
    "        print(\"502 error caused reply\" + e)\n",
    "        resultXML = requests.get(kakao_url_string, headers=kakao_headers)\n",
    "    except IncompleteRead:\n",
    "        # Oh well, reconnect and keep trucking\n",
    "        print(\"_chunk_size Error\")\n",
    "        resultXML = requests.get(kakao_url_string, headers=kakao_headers)\n",
    "    except URLError as e:\n",
    "        print(e.reason)\n",
    "        resultXML = requests.get(kakao_url_string, headers=kakao_headers)\n",
    "    else:\n",
    "        data= resultXML.json()\n",
    "        print(data)\n",
    "        if len(data['documents']) ==0:\n",
    "            data= '403'\n",
    "            return data\n",
    "        else:\n",
    "            return resultXML"
   ]
  },
  {
   "cell_type": "code",
   "execution_count": 4,
   "id": "71f33cad",
   "metadata": {},
   "outputs": [],
   "source": [
    "def get_location(address):\n",
    "\n",
    "    params = {\"query\": \"{}\".format(address)}\n",
    "\n",
    "    response = kakao_req(params, 'GET')\n",
    "        \n",
    "\n",
    "#    #kakao parsing\n",
    "#     pprint(data['meta']['total_count'])\n",
    "#     pprint(data[\"documents\"][0][\"x\"])\n",
    "#     pprint(data[\"documents\"][0][\"y\"])\n",
    "    \n",
    "        \n",
    "    return response"
   ]
  },
  {
   "cell_type": "code",
   "execution_count": 5,
   "id": "c386eaed",
   "metadata": {},
   "outputs": [],
   "source": [
    "import findspark\n",
    "findspark.init()\n",
    "import pyspark\n",
    "import os\n",
    "import numpy as np\n",
    "from pyspark.sql import SQLContext"
   ]
  },
  {
   "cell_type": "code",
   "execution_count": 6,
   "id": "6543e76d",
   "metadata": {},
   "outputs": [],
   "source": [
    "sc = pyspark.SparkContext.getOrCreate()\n",
    "sqlContext = SQLContext(sc)"
   ]
  },
  {
   "cell_type": "code",
   "execution_count": 7,
   "id": "f76c83a2",
   "metadata": {},
   "outputs": [
    {
     "name": "stdout",
     "output_type": "stream",
     "text": [
      "villa_rent_201701.csv\n",
      "villa_rent_201702.csv\n",
      "villa_rent_201703.csv\n",
      "villa_rent_201704.csv\n",
      "villa_rent_201705.csv\n",
      "villa_rent_201706.csv\n",
      "villa_rent_201707.csv\n",
      "villa_rent_201708.csv\n",
      "villa_rent_201709.csv\n",
      "villa_rent_201801.csv\n",
      "villa_rent_201802.csv\n",
      "villa_rent_201803.csv\n",
      "villa_rent_201804.csv\n",
      "villa_rent_201805.csv\n",
      "villa_rent_201806.csv\n",
      "villa_rent_201807.csv\n",
      "villa_rent_201808.csv\n",
      "villa_rent_201809.csv\n",
      "villa_rent_201810.csv\n",
      "villa_rent_201811.csv\n",
      "villa_rent_201812.csv\n",
      "villa_rent_201902.csv\n",
      "villa_rent_201903.csv\n",
      "villa_rent_201906.csv\n",
      "villa_rent_201909.csv\n",
      "villa_rent_201910.csv\n",
      "villa_rent_201911.csv\n",
      "villa_rent_201912.csv\n"
     ]
    }
   ],
   "source": [
    "basic_folder = './villa_rent_data/'\n",
    "\n",
    "file_list = os.listdir(basic_folder)\n",
    "path_list=[]\n",
    "for file in file_list:\n",
    "    print(file)\n",
    "    path_list.append(basic_folder + file)"
   ]
  },
  {
   "cell_type": "code",
   "execution_count": 8,
   "id": "e4472144",
   "metadata": {},
   "outputs": [],
   "source": [
    "df = sqlContext.read.format(\"com.databricks.spark.csv\") \\\n",
    "    .option(\"header\", \"true\").option(\"inferSchema\", \"true\").load(path_list)"
   ]
  },
  {
   "cell_type": "code",
   "execution_count": 9,
   "id": "01877d54",
   "metadata": {
    "scrolled": true
   },
   "outputs": [
    {
     "name": "stdout",
     "output_type": "stream",
     "text": [
      "root\n",
      " |-- _c0: integer (nullable = true)\n",
      " |-- build_year: integer (nullable = true)\n",
      " |-- deposit: string (nullable = true)\n",
      " |-- rental_fee: string (nullable = true)\n",
      " |-- year: integer (nullable = true)\n",
      " |-- month: integer (nullable = true)\n",
      " |-- day: integer (nullable = true)\n",
      " |-- city: string (nullable = true)\n",
      " |-- sub_city: string (nullable = true)\n",
      " |-- dong: string (nullable = true)\n",
      " |-- code: integer (nullable = true)\n",
      " |-- name: string (nullable = true)\n",
      " |-- floor: string (nullable = true)\n",
      " |-- exclusive_private_area: double (nullable = true)\n",
      " |-- address: string (nullable = true)\n",
      " |-- detailed_address: string (nullable = true)\n",
      "\n"
     ]
    }
   ],
   "source": [
    "df.printSchema()"
   ]
  },
  {
   "cell_type": "code",
   "execution_count": 10,
   "id": "7acfa8f4",
   "metadata": {},
   "outputs": [
    {
     "name": "stdout",
     "output_type": "stream",
     "text": [
      "+---+----------+----------+----------+----+-----+---+----------+--------+-------+-----+-----------------+-----+----------------------+-------------------------+----------------+\n",
      "|_c0|build_year|   deposit|rental_fee|year|month|day|      city|sub_city|   dong| code|             name|floor|exclusive_private_area|                  address|detailed_address|\n",
      "+---+----------+----------+----------+----+-----+---+----------+--------+-------+-----+-----------------+-----+----------------------+-------------------------+----------------+\n",
      "|  0|      2001|    42,000|         0|2018|    3|  9|서울특별시|  종로구| 청운동|11110|       궁정빌리지|    2|                 73.98|서울특별시 종로구  청운동|           89=17|\n",
      "|  1|      2001|    42,000|         0|2018|    3|  9|서울특별시|  종로구| 청운동|11110|       궁정빌리지|    2|                 73.98|서울특별시 종로구  청운동|           89=17|\n",
      "|  2|      1988|     5,000|       200|2018|    3| 27|서울특별시|  종로구| 청운동|11110|   청운벽산빌리지|    2|                 83.61|서울특별시 종로구  청운동|               1|\n",
      "|  3|      1988|    25,000|         0|2018|    3| 31|서울특별시|  종로구| 청운동|11110|   청운벽산빌리지|    2|                 82.89|서울특별시 종로구  청운동|               1|\n",
      "|  4|      1999|    22,000|         0|2018|    3|  7|서울특별시|  종로구| 신교동|11110|       해오름빌라|    4|                 59.97|서울특별시 종로구  신교동|            20=1|\n",
      "|  5|      2005|     1,000|        46|2018|    3| 29|서울특별시|  종로구| 신교동|11110|          (17-46)|    3|                 34.12|서울특별시 종로구  신교동|           17=46|\n",
      "|  6|      2002|    30,000|         0|2018|    3|  1|서울특별시|  종로구| 누상동|11110|  코디골드빌105동|    4|                  59.8|서울특별시 종로구  누상동|              80|\n",
      "|  7|      2000|    12,000|         0|2018|    3|  2|서울특별시|  종로구| 누상동|11110|         번영주택|    2|                 26.64|서울특별시 종로구  누상동|             135|\n",
      "|  8|      2013|    30,000|         0|2018|    3|  3|서울특별시|  종로구| 누상동|11110|    경복아트빌6차|    2|                 66.74|서울특별시 종로구  누상동|          166=51|\n",
      "|  9|      2004|       450|        14|2018|    3|  9|서울특별시|  종로구| 누상동|11110|         태광빌라|    4|                  56.7|서울특별시 종로구  누상동|             119|\n",
      "| 10|      2003|    39,000|         0|2018|    3| 15|서울특별시|  종로구| 누상동|11110|           루미빌|    2|                 78.48|서울특별시 종로구  누상동|              14|\n",
      "| 11|      2013|    20,000|        35|2018|    3| 17|서울특별시|  종로구| 누상동|11110|    경복아트빌6차|    4|                 66.74|서울특별시 종로구  누상동|          166=51|\n",
      "| 12|      1998|    23,000|         0|2018|    3| 19|서울특별시|  종로구| 누상동|11110|녹원하이츠빌라3동|    4|                 58.51|서울특별시 종로구  누상동|         166=233|\n",
      "| 13|      2001|    21,000|         0|2018|    3| 20|서울특별시|  종로구| 누상동|11110|          청마C동|    1|                 59.97|서울특별시 종로구  누상동|            83=4|\n",
      "| 14|      1999|    27,000|         0|2018|    3| 21|서울특별시|  종로구| 누상동|11110|녹원하이츠빌라6동|    2|                 59.79|서울특별시 종로구  누상동|         166=247|\n",
      "| 15|      1997|    20,000|        15|2018|    3| 29|서울특별시|  종로구| 누상동|11110|        (166-170)|    3|                 54.31|서울특별시 종로구  누상동|         166=127|\n",
      "| 16|      2007|    32,000|         0|2018|    3| 30|서울특별시|  종로구| 누상동|11110|         해오름빌|    3|                 65.66|서울특별시 종로구  누상동|            29=8|\n",
      "| 17|      1998|    33,000|         0|2018|    3|  2|서울특별시|  종로구| 옥인동|11110|       옥인하우스|    3|                 67.83|서울특별시 종로구  옥인동|           19=35|\n",
      "| 18|      1996|    13,000|        20|2018|    3| 29|서울특별시|  종로구| 옥인동|11110|         (178-20)|    2|                  51.6|서울특별시 종로구  옥인동|          178=20|\n",
      "| 19|      2001|     3,000|        50|2018|    3|  3|서울특별시|  종로구| 체부동|11110|         청마빌라|    3|                 26.11|서울특별시 종로구  체부동|           106=1|\n",
      "+---+----------+----------+----------+----+-----+---+----------+--------+-------+-----+-----------------+-----+----------------------+-------------------------+----------------+\n",
      "only showing top 20 rows\n",
      "\n"
     ]
    },
    {
     "data": {
      "text/plain": [
       "391062"
      ]
     },
     "execution_count": 10,
     "metadata": {},
     "output_type": "execute_result"
    }
   ],
   "source": [
    "df.show()\n",
    "df.count()"
   ]
  },
  {
   "cell_type": "code",
   "execution_count": 11,
   "id": "88adc487",
   "metadata": {},
   "outputs": [],
   "source": [
    "filter_df = df.na.drop()"
   ]
  },
  {
   "cell_type": "code",
   "execution_count": 12,
   "id": "e5720fda",
   "metadata": {},
   "outputs": [],
   "source": [
    "from pyspark.sql.functions import *"
   ]
  },
  {
   "cell_type": "code",
   "execution_count": 13,
   "id": "96eda73f",
   "metadata": {
    "scrolled": true
   },
   "outputs": [],
   "source": [
    "unique_date_df = filter_df.groupBy(filter_df.year,filter_df.month, filter_df.day).agg(count(\"day\").alias('count'))\n",
    "# agg = exprs에 들어있는 계산식으로 dataframe 계산\n",
    "\n",
    "unique_date_list = unique_date_df.collect()\n",
    "new_date_list = []\n",
    "for unique_date in unique_date_list:\n",
    "    \n",
    "    if unique_date[1] < 10 :\n",
    "        if unique_date[2] < 10 : \n",
    "            date = str(unique_date[0]) + '-' + \"0\" + str(unique_date[1]) + '-' + \"0\" +str(unique_date[2]) + 'T' + \"00:00:00\"\n",
    "        else:\n",
    "            date = str(unique_date[0]) + '-' + \"0\" + str(unique_date[1]) + '-' +str(unique_date[2]) + 'T' + \"00:00:00\"\n",
    "        \n",
    "    else:\n",
    "        if unique_date[2] < 10 : \n",
    "            date = str(unique_date[0]) + '-' + str(unique_date[1]) + '-' + \"0\" +str(unique_date[2]) + 'T' + \"00:00:00\"\n",
    "    \n",
    "        else:\n",
    "            date = str(unique_date[0]) + '-' + str(unique_date[1]) + '-' +str(unique_date[2]) + 'T' + \"00:00:00\"\n",
    "    \n",
    "    \n",
    "    new_date_list.append([unique_date[0], unique_date[1],unique_date[2],date])\n",
    "    \n",
    "unique_date_df = sc.parallelize(new_date_list).toDF(['year','month','day','date'])"
   ]
  },
  {
   "cell_type": "code",
   "execution_count": 14,
   "id": "789758dc",
   "metadata": {},
   "outputs": [
    {
     "name": "stdout",
     "output_type": "stream",
     "text": [
      "+----+-----+---+---+----------+----------+----------+----------+--------+----------+-----+-----------------------+-----+----------------------+----------------------------+----------------+-------------------+\n",
      "|year|month|day|_c0|build_year|   deposit|rental_fee|      city|sub_city|      dong| code|                   name|floor|exclusive_private_area|                     address|detailed_address|               date|\n",
      "+----+-----+---+---+----------+----------+----------+----------+--------+----------+-----+-----------------------+-----+----------------------+----------------------------+----------------+-------------------+\n",
      "|2017|    1|  1|  4|      2015|     3,000|        55|서울특별시|  금천구|    독산동|11545|           금나래아트빌|    3|                 35.51|   서울특별시 금천구  독산동|          963=18|2017-01-01T00:00:00|\n",
      "|2017|    1|  1|127|      2015|     2,000|        75|서울특별시|  노원구|    상계동|11350|       상계 예인빌라1차|    5|                 34.91|   서울특별시 노원구  상계동|         387=176|2017-01-01T00:00:00|\n",
      "|2017|    1|  1| 56|      1982|    11,000|         0|서울특별시|  구로구|    개봉동|11530|미림빌라 가~라동(108-5)|    2|                 61.19|   서울특별시 구로구  개봉동|           108=5|2017-01-01T00:00:00|\n",
      "|2017|    1|  1| 59|      1976|         0|        10|서울특별시|  강북구|    수유동|11305|           영일(530-27)|    1|                 74.15|   서울특별시 강북구  수유동|          530=27|2017-01-01T00:00:00|\n",
      "|2017|    1|  1| 32|      1991|    10,000|         0|서울특별시|  노원구|    공릉동|11350|           우성빌라 B동|    3|                 36.93|   서울특별시 노원구  공릉동|          366=32|2017-01-01T00:00:00|\n",
      "|2017|    1|  1| 42|      2003|    10,000|        40|서울특별시|  마포구|    신수동|11440|                (62-50)|    2|                  52.5|   서울특별시 마포구  신수동|           62=50|2017-01-01T00:00:00|\n",
      "|2017|    1|  1|  1|      2013|     9,000|         0|서울특별시|  구로구|    구로동|11530|             경성그린빌|    3|                 26.67|   서울특별시 구로구  구로동|          486=47|2017-01-01T00:00:00|\n",
      "|2017|    1|  1|  0|      1996|     1,000|        60|서울특별시|  중랑구|    면목동|11260|               (1159-2)|    1|                 44.28|   서울특별시 중랑구  면목동|          1159=2|2017-01-01T00:00:00|\n",
      "|2017|    1|  1|104|      2002|     5,000|        25|서울특별시|  성북구|    정릉동|11290|             동방월드빌|    2|                 44.78|   서울특별시 성북구  정릉동|         192=224|2017-01-01T00:00:00|\n",
      "|2017|    1|  1|  0|      2011|     6,000|         0|서울특별시|  노원구|    월계동|11350|               MAI BAUM|    4|                 12.09|   서울특별시 노원구  월계동|           400=1|2017-01-01T00:00:00|\n",
      "|2017|    1|  1|  1|      2003|    10,000|         0|서울특별시|  노원구|    월계동|11350|               (534-25)|    2|                 47.28|   서울특별시 노원구  월계동|          534=25|2017-01-01T00:00:00|\n",
      "|2017|    1|  1|110|      2008|    14,000|         0|서울특별시|  은평구|    구산동|11380|     삼성빌리지(188-59)|    2|                 50.61|   서울특별시 은평구  구산동|          188=59|2017-01-01T00:00:00|\n",
      "|2017|    1|  1| 56|      2002|     1,000|        50|서울특별시|서대문구|    창천동|11410|              해피빌3차|    1|                 35.86| 서울특별시 서대문구  창천동|           99=10|2017-01-01T00:00:00|\n",
      "|2017|    1|  1|171|      1987|       100|        14|서울특별시|  양천구|    신월동|11470|                   영곡|    2|                 40.92|   서울특별시 양천구  신월동|          477=12|2017-01-01T00:00:00|\n",
      "|2017|    1|  1|  0|      1985|    22,000|         0|서울특별시|  구로구|    구로동|11530|               우성빌라|    2|                 76.32|   서울특별시 구로구  구로동|              33|2017-01-01T00:00:00|\n",
      "|2017|    1|  1| 23|      2013|    13,000|         0|서울특별시|  성동구|    행당동|11200|                 azalea|    2|                 15.54|   서울특별시 성동구  행당동|           37=31|2017-01-01T00:00:00|\n",
      "|2017|    1|  1| 84|      2011|     7,200|         0|서울특별시|동대문구|    휘경동|11230|               (293-39)|    2|                  15.0| 서울특별시 동대문구  휘경동|          293=39|2017-01-01T00:00:00|\n",
      "|2017|    1|  1| 75|      2013|     4,000|        85|서울특별시|  성북구| 안암동2가|11290|               (161-13)|    3|                 30.09|서울특별시 성북구  안암동2가|          161=13|2017-01-01T00:00:00|\n",
      "|2017|    1|  1| 87|      2012|     2,000|        65|서울특별시|  성북구| 안암동5가|11290|                (12-24)|    4|                 14.13|서울특별시 성북구  안암동5가|           12=24|2017-01-01T00:00:00|\n",
      "|2017|    1|  1| 60|      1998|     6,000|         0|서울특별시|  강북구|    수유동|11305|               영종맨션|    2|                 69.68|   서울특별시 강북구  수유동|           180=7|2017-01-01T00:00:00|\n",
      "+----+-----+---+---+----------+----------+----------+----------+--------+----------+-----+-----------------------+-----+----------------------+----------------------------+----------------+-------------------+\n",
      "only showing top 20 rows\n",
      "\n"
     ]
    },
    {
     "data": {
      "text/plain": [
       "391058"
      ]
     },
     "execution_count": 14,
     "metadata": {},
     "output_type": "execute_result"
    }
   ],
   "source": [
    "added_date_df = filter_df.join(unique_date_df, ['year','month','day']).sort('date')\n",
    "added_date_df.show()\n",
    "added_date_df.count()"
   ]
  },
  {
   "cell_type": "code",
   "execution_count": 15,
   "id": "d6a8aa8d",
   "metadata": {},
   "outputs": [
    {
     "name": "stdout",
     "output_type": "stream",
     "text": [
      "+----+-----+---+---+----------+----------+----------+----------+--------+----------+-----+-----------------------+-----+----------------------+----------------------------+----------------+-------------------+\n",
      "|year|month|day|_c0|build_year|   deposit|rental_fee|      city|sub_city|      dong| code|                   name|floor|exclusive_private_area|                     address|detailed_address|               date|\n",
      "+----+-----+---+---+----------+----------+----------+----------+--------+----------+-----+-----------------------+-----+----------------------+----------------------------+----------------+-------------------+\n",
      "|2017|    1|  1|  4|      2015|     3,000|        55|서울특별시|  금천구|    독산동|11545|           금나래아트빌|    3|                 35.51|   서울특별시 금천구  독산동|          963-18|2017-01-01T00:00:00|\n",
      "|2017|    1|  1|127|      2015|     2,000|        75|서울특별시|  노원구|    상계동|11350|       상계 예인빌라1차|    5|                 34.91|   서울특별시 노원구  상계동|         387-176|2017-01-01T00:00:00|\n",
      "|2017|    1|  1| 56|      1982|    11,000|         0|서울특별시|  구로구|    개봉동|11530|미림빌라 가~라동(108-5)|    2|                 61.19|   서울특별시 구로구  개봉동|           108-5|2017-01-01T00:00:00|\n",
      "|2017|    1|  1| 59|      1976|         0|        10|서울특별시|  강북구|    수유동|11305|           영일(530-27)|    1|                 74.15|   서울특별시 강북구  수유동|          530-27|2017-01-01T00:00:00|\n",
      "|2017|    1|  1| 32|      1991|    10,000|         0|서울특별시|  노원구|    공릉동|11350|           우성빌라 B동|    3|                 36.93|   서울특별시 노원구  공릉동|          366-32|2017-01-01T00:00:00|\n",
      "|2017|    1|  1| 42|      2003|    10,000|        40|서울특별시|  마포구|    신수동|11440|                (62-50)|    2|                  52.5|   서울특별시 마포구  신수동|           62-50|2017-01-01T00:00:00|\n",
      "|2017|    1|  1|  1|      2013|     9,000|         0|서울특별시|  구로구|    구로동|11530|             경성그린빌|    3|                 26.67|   서울특별시 구로구  구로동|          486-47|2017-01-01T00:00:00|\n",
      "|2017|    1|  1|  0|      1996|     1,000|        60|서울특별시|  중랑구|    면목동|11260|               (1159-2)|    1|                 44.28|   서울특별시 중랑구  면목동|          1159-2|2017-01-01T00:00:00|\n",
      "|2017|    1|  1|104|      2002|     5,000|        25|서울특별시|  성북구|    정릉동|11290|             동방월드빌|    2|                 44.78|   서울특별시 성북구  정릉동|         192-224|2017-01-01T00:00:00|\n",
      "|2017|    1|  1|  0|      2011|     6,000|         0|서울특별시|  노원구|    월계동|11350|               MAI BAUM|    4|                 12.09|   서울특별시 노원구  월계동|           400-1|2017-01-01T00:00:00|\n",
      "|2017|    1|  1|  1|      2003|    10,000|         0|서울특별시|  노원구|    월계동|11350|               (534-25)|    2|                 47.28|   서울특별시 노원구  월계동|          534-25|2017-01-01T00:00:00|\n",
      "|2017|    1|  1|110|      2008|    14,000|         0|서울특별시|  은평구|    구산동|11380|     삼성빌리지(188-59)|    2|                 50.61|   서울특별시 은평구  구산동|          188-59|2017-01-01T00:00:00|\n",
      "|2017|    1|  1| 56|      2002|     1,000|        50|서울특별시|서대문구|    창천동|11410|              해피빌3차|    1|                 35.86| 서울특별시 서대문구  창천동|           99-10|2017-01-01T00:00:00|\n",
      "|2017|    1|  1|171|      1987|       100|        14|서울특별시|  양천구|    신월동|11470|                   영곡|    2|                 40.92|   서울특별시 양천구  신월동|          477-12|2017-01-01T00:00:00|\n",
      "|2017|    1|  1|  0|      1985|    22,000|         0|서울특별시|  구로구|    구로동|11530|               우성빌라|    2|                 76.32|   서울특별시 구로구  구로동|              33|2017-01-01T00:00:00|\n",
      "|2017|    1|  1| 23|      2013|    13,000|         0|서울특별시|  성동구|    행당동|11200|                 azalea|    2|                 15.54|   서울특별시 성동구  행당동|           37-31|2017-01-01T00:00:00|\n",
      "|2017|    1|  1| 84|      2011|     7,200|         0|서울특별시|동대문구|    휘경동|11230|               (293-39)|    2|                  15.0| 서울특별시 동대문구  휘경동|          293-39|2017-01-01T00:00:00|\n",
      "|2017|    1|  1| 75|      2013|     4,000|        85|서울특별시|  성북구| 안암동2가|11290|               (161-13)|    3|                 30.09|서울특별시 성북구  안암동2가|          161-13|2017-01-01T00:00:00|\n",
      "|2017|    1|  1| 87|      2012|     2,000|        65|서울특별시|  성북구| 안암동5가|11290|                (12-24)|    4|                 14.13|서울특별시 성북구  안암동5가|           12-24|2017-01-01T00:00:00|\n",
      "|2017|    1|  1| 60|      1998|     6,000|         0|서울특별시|  강북구|    수유동|11305|               영종맨션|    2|                 69.68|   서울특별시 강북구  수유동|           180-7|2017-01-01T00:00:00|\n",
      "+----+-----+---+---+----------+----------+----------+----------+--------+----------+-----+-----------------------+-----+----------------------+----------------------------+----------------+-------------------+\n",
      "only showing top 20 rows\n",
      "\n"
     ]
    }
   ],
   "source": [
    "added_date_df = added_date_df.withColumn(\"detailed_address\", regexp_replace(col(\"detailed_address\"),\"=\",\"-\"))\n",
    "added_date_df.show()"
   ]
  },
  {
   "cell_type": "code",
   "execution_count": 16,
   "id": "14a51518",
   "metadata": {},
   "outputs": [
    {
     "name": "stdout",
     "output_type": "stream",
     "text": [
      "+-----------------------------+----------------+-----+\n",
      "|                      address|detailed_address|count|\n",
      "+-----------------------------+----------------+-----+\n",
      "|    서울특별시 강서구  화곡동|          832-42|   12|\n",
      "|    서울특별시 금천구  시흥동|             982|   89|\n",
      "|      부산광역시 북구  덕천동|          417-10|    5|\n",
      "|    서울특별시 마포구  연남동|          223-46|    7|\n",
      "|    부산광역시 동래구  사직동|           42-20|    1|\n",
      "| 경기도 안양시 동안구  관양동|         1422-15|    3|\n",
      "|      서울특별시 중랑구  묵동|           177-9|    6|\n",
      "|서울특별시 서대문구  북아현동|          1-1755|    4|\n",
      "|  부산광역시 부산진구  개금동|            33-1|    1|\n",
      "|    부산광역시 연제구  거제동|           751-5|   19|\n",
      "| 경기도 수원시 팔달구  인계동|            1030|   12|\n",
      "|    서울특별시 강동구  성내동|           226-4|    4|\n",
      "|        경기도 시흥시  신천동|          823-23|    2|\n",
      "|    서울특별시 강남구  개포동|          1163-4|   18|\n",
      "|    서울특별시 송파구  송파동|           88-18|    1|\n",
      "|        경기도 부천시  약대동|            75-1|    8|\n",
      "|  부산광역시 부산진구  부전동|           414-2|   11|\n",
      "|    서울특별시 동작구  상도동|         244-343|    9|\n",
      "|    인천광역시 부평구  부개동|           383-4|    3|\n",
      "|    서울특별시 송파구  석촌동|           11-14|    3|\n",
      "+-----------------------------+----------------+-----+\n",
      "only showing top 20 rows\n",
      "\n"
     ]
    },
    {
     "data": {
      "text/plain": [
       "134775"
      ]
     },
     "execution_count": 16,
     "metadata": {},
     "output_type": "execute_result"
    }
   ],
   "source": [
    "new_df = added_date_df.groupBy(added_date_df.address,added_date_df.detailed_address).agg(count(\"detailed_address\").alias(\"count\"))\n",
    "new_df.show()\n",
    "new_df.count()"
   ]
  },
  {
   "cell_type": "code",
   "execution_count": 17,
   "id": "a6026e7d",
   "metadata": {},
   "outputs": [
    {
     "name": "stdout",
     "output_type": "stream",
     "text": [
      "+----------+\n",
      "|sum(count)|\n",
      "+----------+\n",
      "|    391058|\n",
      "+----------+\n",
      "\n"
     ]
    }
   ],
   "source": [
    "sum = new_df.select(sum(\"count\"))\n",
    "sum.show()"
   ]
  },
  {
   "cell_type": "code",
   "execution_count": 18,
   "id": "0cc127ea",
   "metadata": {},
   "outputs": [],
   "source": [
    "unique_address_list = new_df.collect()\n",
    "#print (unique_address_list[0][0])"
   ]
  },
  {
   "cell_type": "code",
   "execution_count": 19,
   "id": "28690113",
   "metadata": {},
   "outputs": [],
   "source": [
    "import sys\n",
    "\n",
    "def req_addr(address):\n",
    "    data=0\n",
    "    if '-' in address[1]:\n",
    "        check = str(address[1]).split('-')[0]\n",
    "        if address[1].split('-')[0].isdigit() == False or address[1].split('-')[1].isdigit() == False:\n",
    "            print(address)\n",
    "            print('주소에 글자섞임')\n",
    "            data= 400\n",
    "    if data == 0:\n",
    "        response = kakao_req(address[0] + \" \" + address[1])\n",
    "    else :\n",
    "        return data\n",
    "    if response == '403':\n",
    "        print('빈배열 에러 ' + address[0] + \" \" + address[1])\n",
    "        sleep(5)\n",
    "        data= 3\n",
    "        return data\n",
    "    else :\n",
    "        return response\n",
    "        \n",
    "    "
   ]
  },
  {
   "cell_type": "code",
   "execution_count": 22,
   "id": "899947ae",
   "metadata": {
    "scrolled": true
   },
   "outputs": [
    {
     "name": "stdout",
     "output_type": "stream",
     "text": [
      "134775\n",
      "{'errorType': 'RequestThrottled', 'message': 'API limit has been exceeded.'}\n"
     ]
    },
    {
     "ename": "KeyError",
     "evalue": "'documents'",
     "output_type": "error",
     "traceback": [
      "\u001b[1;31m---------------------------------------------------------------------------\u001b[0m",
      "\u001b[1;31mKeyError\u001b[0m                                  Traceback (most recent call last)",
      "\u001b[1;32m<ipython-input-22-30d1c3f9ecd7>\u001b[0m in \u001b[0;36m<module>\u001b[1;34m\u001b[0m\n\u001b[0;32m     16\u001b[0m     \u001b[1;31m#full_address = (address[0] + \" \" + address[1]).encode('utf8')\u001b[0m\u001b[1;33m\u001b[0m\u001b[1;33m\u001b[0m\u001b[1;33m\u001b[0m\u001b[0m\n\u001b[0;32m     17\u001b[0m     \u001b[1;31m#print(full_address)\u001b[0m\u001b[1;33m\u001b[0m\u001b[1;33m\u001b[0m\u001b[1;33m\u001b[0m\u001b[0m\n\u001b[1;32m---> 18\u001b[1;33m     \u001b[0mresponse\u001b[0m \u001b[1;33m=\u001b[0m \u001b[0mreq_addr\u001b[0m\u001b[1;33m(\u001b[0m\u001b[0maddress\u001b[0m\u001b[1;33m)\u001b[0m\u001b[1;33m\u001b[0m\u001b[1;33m\u001b[0m\u001b[0m\n\u001b[0m\u001b[0;32m     19\u001b[0m     \u001b[1;32mif\u001b[0m \u001b[0mresponse\u001b[0m \u001b[1;33m==\u001b[0m \u001b[1;36m400\u001b[0m \u001b[1;32mor\u001b[0m \u001b[0mresponse\u001b[0m \u001b[1;33m==\u001b[0m \u001b[1;36m3\u001b[0m\u001b[1;33m:\u001b[0m\u001b[1;33m\u001b[0m\u001b[1;33m\u001b[0m\u001b[0m\n\u001b[0;32m     20\u001b[0m         \u001b[1;32mcontinue\u001b[0m\u001b[1;33m\u001b[0m\u001b[1;33m\u001b[0m\u001b[0m\n",
      "\u001b[1;32m<ipython-input-19-262fba2f13bb>\u001b[0m in \u001b[0;36mreq_addr\u001b[1;34m(address)\u001b[0m\n\u001b[0;32m     10\u001b[0m             \u001b[0mdata\u001b[0m\u001b[1;33m=\u001b[0m \u001b[1;36m400\u001b[0m\u001b[1;33m\u001b[0m\u001b[1;33m\u001b[0m\u001b[0m\n\u001b[0;32m     11\u001b[0m     \u001b[1;32mif\u001b[0m \u001b[0mdata\u001b[0m \u001b[1;33m==\u001b[0m \u001b[1;36m0\u001b[0m\u001b[1;33m:\u001b[0m\u001b[1;33m\u001b[0m\u001b[1;33m\u001b[0m\u001b[0m\n\u001b[1;32m---> 12\u001b[1;33m         \u001b[0mresponse\u001b[0m \u001b[1;33m=\u001b[0m \u001b[0mkakao_req\u001b[0m\u001b[1;33m(\u001b[0m\u001b[0maddress\u001b[0m\u001b[1;33m[\u001b[0m\u001b[1;36m0\u001b[0m\u001b[1;33m]\u001b[0m \u001b[1;33m+\u001b[0m \u001b[1;34m\" \"\u001b[0m \u001b[1;33m+\u001b[0m \u001b[0maddress\u001b[0m\u001b[1;33m[\u001b[0m\u001b[1;36m1\u001b[0m\u001b[1;33m]\u001b[0m\u001b[1;33m)\u001b[0m\u001b[1;33m\u001b[0m\u001b[1;33m\u001b[0m\u001b[0m\n\u001b[0m\u001b[0;32m     13\u001b[0m     \u001b[1;32melse\u001b[0m \u001b[1;33m:\u001b[0m\u001b[1;33m\u001b[0m\u001b[1;33m\u001b[0m\u001b[0m\n\u001b[0;32m     14\u001b[0m         \u001b[1;32mreturn\u001b[0m \u001b[0mdata\u001b[0m\u001b[1;33m\u001b[0m\u001b[1;33m\u001b[0m\u001b[0m\n",
      "\u001b[1;32m<ipython-input-21-1a5521b75450>\u001b[0m in \u001b[0;36mkakao_req\u001b[1;34m(address)\u001b[0m\n\u001b[0;32m     20\u001b[0m         \u001b[0mdata\u001b[0m\u001b[1;33m=\u001b[0m \u001b[0mresultXML\u001b[0m\u001b[1;33m.\u001b[0m\u001b[0mjson\u001b[0m\u001b[1;33m(\u001b[0m\u001b[1;33m)\u001b[0m\u001b[1;33m\u001b[0m\u001b[1;33m\u001b[0m\u001b[0m\n\u001b[0;32m     21\u001b[0m         \u001b[0mprint\u001b[0m\u001b[1;33m(\u001b[0m\u001b[0mdata\u001b[0m\u001b[1;33m)\u001b[0m\u001b[1;33m\u001b[0m\u001b[1;33m\u001b[0m\u001b[0m\n\u001b[1;32m---> 22\u001b[1;33m         \u001b[1;32mif\u001b[0m \u001b[0mlen\u001b[0m\u001b[1;33m(\u001b[0m\u001b[0mdata\u001b[0m\u001b[1;33m[\u001b[0m\u001b[1;34m'documents'\u001b[0m\u001b[1;33m]\u001b[0m\u001b[1;33m)\u001b[0m \u001b[1;33m==\u001b[0m\u001b[1;36m0\u001b[0m\u001b[1;33m:\u001b[0m\u001b[1;33m\u001b[0m\u001b[1;33m\u001b[0m\u001b[0m\n\u001b[0m\u001b[0;32m     23\u001b[0m             \u001b[0mdata\u001b[0m\u001b[1;33m=\u001b[0m \u001b[1;34m'403'\u001b[0m\u001b[1;33m\u001b[0m\u001b[1;33m\u001b[0m\u001b[0m\n\u001b[0;32m     24\u001b[0m             \u001b[1;32mreturn\u001b[0m \u001b[0mdata\u001b[0m\u001b[1;33m\u001b[0m\u001b[1;33m\u001b[0m\u001b[0m\n",
      "\u001b[1;31mKeyError\u001b[0m: 'documents'"
     ]
    }
   ],
   "source": [
    "\n",
    "location_list = []\n",
    "\n",
    "# checking why no esult data\n",
    "# response = get_location(\"경상북도 영천시 신령면 완전리\") -> 신녕면\n",
    "# print response.status_code\n",
    "# data = response.json()\n",
    "# print data\n",
    "\n",
    "index = 1.0;\n",
    "length = len(unique_address_list)\n",
    "count = 0;\n",
    "print (length)\n",
    "addr2 =unique_address_list[:1]\n",
    "\n",
    "for address in unique_address_list: \n",
    "    #full_address = (address[0] + \" \" + address[1]).encode('utf8')\n",
    "    #print(full_address)\n",
    "    response = req_addr(address)\n",
    "    if response == 400 or response == 3:\n",
    "        continue\n",
    "    if response.status_code == 200:\n",
    "        data = response.json()\n",
    "        x = data['documents'][0]['address']['x']\n",
    "        y = data['documents'][0]['address']['y']\n",
    "        location_list.append([address[0],address[1],y,x])\n",
    "    else: \n",
    "        print (response.json())\n",
    "        count += 1\n",
    "        #print (count)\n",
    "        location_list.append([address[0],address[1] ,np.nan,np.nan])\n",
    "    \n",
    "    if index % 100 == 0:\n",
    "        print ((\"%0.2f\" % (index / length * 100.0)) + \"% completed\")\n",
    "        \n",
    "    index += 1.0"
   ]
  },
  {
   "cell_type": "code",
   "execution_count": null,
   "id": "de9bcbfe",
   "metadata": {},
   "outputs": [],
   "source": [
    "location = sc.parallelize(location_list).toDF(['address','detailed_address','latitude','longitude'])\n",
    "location.show()"
   ]
  },
  {
   "cell_type": "code",
   "execution_count": null,
   "id": "d8c1bbfc",
   "metadata": {},
   "outputs": [],
   "source": [
    "location.count()"
   ]
  },
  {
   "cell_type": "code",
   "execution_count": null,
   "id": "e119e4fb",
   "metadata": {},
   "outputs": [],
   "source": [
    "joined_df = added_date_df.join(location.select('address','detailed_address','latitude','longitude'), ['address','detailed_address'])"
   ]
  },
  {
   "cell_type": "code",
   "execution_count": null,
   "id": "a6cf1657",
   "metadata": {},
   "outputs": [],
   "source": [
    "joined_df.show()\n",
    "joined_df.count()"
   ]
  },
  {
   "cell_type": "code",
   "execution_count": null,
   "id": "48cd9cc5",
   "metadata": {},
   "outputs": [],
   "source": [
    "drop_index_df = joined_df.drop(\"_c0\")\n",
    "drop_index_df.show()\n",
    "drop_index_df.count()"
   ]
  },
  {
   "cell_type": "code",
   "execution_count": null,
   "id": "2a509429",
   "metadata": {},
   "outputs": [],
   "source": [
    "final_apartment_df = drop_index_df.na.drop()\n",
    "final_apartment_df = final_apartment_df.withColumn('deposit',regexp_replace('deposit',\"\\\\,\", \"\")).withColumn('rental_fee',regexp_replace('rental_fee',\"\\\\,\", \"\"))\n",
    "final_apartment_df.show()\n",
    "final_apartment_df.count()"
   ]
  },
  {
   "cell_type": "code",
   "execution_count": null,
   "id": "df823fcd",
   "metadata": {},
   "outputs": [],
   "source": [
    "#final_apartment_df.write.format('com.databricks.spark.csv').save('mycsv.csv')\n",
    "final_apartment_df.coalesce(1).write.csv('villa_rent.csv')"
   ]
  }
 ],
 "metadata": {
  "kernelspec": {
   "display_name": "Python 3",
   "language": "python",
   "name": "python3"
  },
  "language_info": {
   "codemirror_mode": {
    "name": "ipython",
    "version": 3
   },
   "file_extension": ".py",
   "mimetype": "text/x-python",
   "name": "python",
   "nbconvert_exporter": "python",
   "pygments_lexer": "ipython3",
   "version": "3.8.8"
  }
 },
 "nbformat": 4,
 "nbformat_minor": 5
}
