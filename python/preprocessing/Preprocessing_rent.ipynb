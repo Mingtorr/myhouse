{
 "cells": [
  {
   "cell_type": "code",
   "execution_count": 1,
   "id": "784ba6f9",
   "metadata": {},
   "outputs": [],
   "source": [
    "import requests\n",
    "from urllib.error import URLError, HTTPError\n",
    "from http.client import IncompleteRead\n",
    "from time import sleep"
   ]
  },
  {
   "cell_type": "code",
   "execution_count": 2,
   "id": "e30af2f8",
   "metadata": {},
   "outputs": [],
   "source": [
    "# kakao api\n",
    "APP_KEY = \"50ec8e7b1c4b4a0cb78c5ada1ebff80b\"\n",
    "kakao_url = \"https://dapi.kakao.com/v2/local/search/address.json\"\n",
    "kakao_headers = {\"Authorization\" : \"KakaoAK {}\".format(APP_KEY)}"
   ]
  },
  {
   "cell_type": "code",
   "execution_count": 3,
   "id": "097bbb7f",
   "metadata": {},
   "outputs": [],
   "source": [
    "def kakao_req(address):\n",
    "#     print('HTTP Method: %s' % method)\n",
    "#     print('Request URL: %s' % kakao_url)\n",
    "#     print('Headers: %s' % kakao_headers)\n",
    "#     print('QueryString: %s' % params)\n",
    "    kakao_url_string = str(kakao_url)+ '?query='+ str(address)\n",
    "    try:\n",
    "        resultXML = requests.get(kakao_url_string, headers=kakao_headers)\n",
    "    except HTTPError as e:\n",
    "        print(\"502 error caused reply\" + e)\n",
    "        resultXML = requests.get(kakao_url_string, headers=kakao_headers)\n",
    "    except IncompleteRead:\n",
    "        # Oh well, reconnect and keep trucking\n",
    "        print(\"_chunk_size Error\")\n",
    "        resultXML = requests.get(kakao_url_string, headers=kakao_headers)\n",
    "    except URLError as e:\n",
    "        print(e.reason)\n",
    "        resultXML = requests.get(kakao_url_string, headers=kakao_headers)\n",
    "    else:\n",
    "        data= resultXML.json()\n",
    "        if len(data['documents']) ==0:\n",
    "            data= '403'\n",
    "            return data\n",
    "        else:\n",
    "            return resultXML"
   ]
  },
  {
   "cell_type": "code",
   "execution_count": 4,
   "id": "71f33cad",
   "metadata": {},
   "outputs": [],
   "source": [
    "def get_location(address):\n",
    "\n",
    "    params = {\"query\": \"{}\".format(address)}\n",
    "\n",
    "    response = kakao_req(params, 'GET')\n",
    "        \n",
    "\n",
    "#    #kakao parsing\n",
    "#     pprint(data['meta']['total_count'])\n",
    "#     pprint(data[\"documents\"][0][\"x\"])\n",
    "#     pprint(data[\"documents\"][0][\"y\"])\n",
    "    \n",
    "        \n",
    "    return response"
   ]
  },
  {
   "cell_type": "code",
   "execution_count": 5,
   "id": "c386eaed",
   "metadata": {},
   "outputs": [],
   "source": [
    "import findspark\n",
    "findspark.init()\n",
    "import pyspark\n",
    "import os\n",
    "import numpy as np\n",
    "from pyspark.sql import SQLContext"
   ]
  },
  {
   "cell_type": "code",
   "execution_count": 6,
   "id": "6543e76d",
   "metadata": {},
   "outputs": [],
   "source": [
    "sc = pyspark.SparkContext.getOrCreate()\n",
    "sqlContext = SQLContext(sc)"
   ]
  },
  {
   "cell_type": "code",
   "execution_count": 7,
   "id": "f76c83a2",
   "metadata": {},
   "outputs": [
    {
     "name": "stdout",
     "output_type": "stream",
     "text": [
      "office_rent_201701.csv\n",
      "office_rent_201702.csv\n",
      "office_rent_201703.csv\n",
      "office_rent_201704.csv\n",
      "office_rent_201705.csv\n",
      "office_rent_201706.csv\n",
      "office_rent_201707.csv\n",
      "office_rent_201708.csv\n",
      "office_rent_201709.csv\n",
      "office_rent_201710.csv\n",
      "office_rent_201711.csv\n",
      "office_rent_201712.csv\n",
      "office_rent_201801.csv\n",
      "office_rent_201802.csv\n",
      "office_rent_201803.csv\n",
      "office_rent_201804.csv\n",
      "office_rent_201805.csv\n",
      "office_rent_201806.csv\n",
      "office_rent_201807.csv\n",
      "office_rent_201808.csv\n",
      "office_rent_201809.csv\n",
      "office_rent_201810.csv\n",
      "office_rent_201811.csv\n",
      "office_rent_201812.csv\n",
      "office_rent_201901.csv\n",
      "office_rent_201902.csv\n",
      "office_rent_201903.csv\n",
      "office_rent_201904.csv\n",
      "office_rent_201905.csv\n",
      "office_rent_201906.csv\n",
      "office_rent_201907.csv\n",
      "office_rent_201908.csv\n",
      "office_rent_201909.csv\n",
      "office_rent_201910.csv\n",
      "office_rent_201911.csv\n",
      "office_rent_201912.csv\n",
      "office_rent_202001.csv\n",
      "office_rent_202002.csv\n",
      "office_rent_202003.csv\n",
      "office_rent_202004.csv\n",
      "office_rent_202005.csv\n",
      "office_rent_202006.csv\n",
      "office_rent_202007.csv\n",
      "office_rent_202008.csv\n",
      "office_rent_202009.csv\n",
      "office_rent_202010.csv\n",
      "office_rent_202011.csv\n",
      "office_rent_202012.csv\n"
     ]
    }
   ],
   "source": [
    "basic_folder = './office_rent_data/'\n",
    "\n",
    "file_list = os.listdir(basic_folder)\n",
    "path_list=[]\n",
    "for file in file_list:\n",
    "    print(file)\n",
    "    path_list.append(basic_folder + file)"
   ]
  },
  {
   "cell_type": "code",
   "execution_count": 8,
   "id": "e4472144",
   "metadata": {},
   "outputs": [],
   "source": [
    "df = sqlContext.read.format(\"com.databricks.spark.csv\") \\\n",
    "    .option(\"header\", \"true\").option(\"inferSchema\", \"true\").load(path_list)"
   ]
  },
  {
   "cell_type": "code",
   "execution_count": 9,
   "id": "01877d54",
   "metadata": {
    "scrolled": true
   },
   "outputs": [
    {
     "name": "stdout",
     "output_type": "stream",
     "text": [
      "root\n",
      " |-- _c0: integer (nullable = true)\n",
      " |-- build_year: integer (nullable = true)\n",
      " |-- deposit: string (nullable = true)\n",
      " |-- rental_fee: string (nullable = true)\n",
      " |-- year: integer (nullable = true)\n",
      " |-- month: integer (nullable = true)\n",
      " |-- day: integer (nullable = true)\n",
      " |-- city: string (nullable = true)\n",
      " |-- sub_city: string (nullable = true)\n",
      " |-- dong: string (nullable = true)\n",
      " |-- code: integer (nullable = true)\n",
      " |-- name: string (nullable = true)\n",
      " |-- floor: integer (nullable = true)\n",
      " |-- exclusive_private_area: double (nullable = true)\n",
      " |-- address: string (nullable = true)\n",
      " |-- detailed_address: string (nullable = true)\n",
      "\n"
     ]
    }
   ],
   "source": [
    "df.printSchema()"
   ]
  },
  {
   "cell_type": "code",
   "execution_count": 10,
   "id": "7acfa8f4",
   "metadata": {},
   "outputs": [
    {
     "name": "stdout",
     "output_type": "stream",
     "text": [
      "+---+----------+-------+----------+----+-----+---+----------+--------+-------+-----+----------------------+-----+----------------------+-------------------------+----------------+\n",
      "|_c0|build_year|deposit|rental_fee|year|month|day|      city|sub_city|   dong| code|                  name|floor|exclusive_private_area|                  address|detailed_address|\n",
      "+---+----------+-------+----------+----+-----+---+----------+--------+-------+-----+----------------------+-----+----------------------+-------------------------+----------------+\n",
      "|  0|      1998|  1,000|        50|2020|    2| 26|서울특별시|  종로구| 필운동|11110|            파크뷰타워|    5|                 25.86|서울특별시 종로구  필운동|           285=5|\n",
      "|  1|      1998| 15,000|         0|2020|    2| 28|서울특별시|  종로구| 필운동|11110|            파크뷰타워|    7|                 25.86|서울특별시 종로구  필운동|           285=5|\n",
      "|  2|      2008|  5,000|        70|2020|    2| 15|서울특별시|  종로구| 사직동|11110| 광화문 풍림스페이스본|    5|                 39.54|서울특별시 종로구  사직동|               9|\n",
      "|  3|      2004|  6,000|        70|2020|    2|  1|서울특별시|  종로구| 내수동|11110|            용비어천가|    4|                 37.56|서울특별시 종로구  내수동|              75|\n",
      "|  4|      2004| 24,000|         0|2020|    2|  1|서울특별시|  종로구| 내수동|11110|            용비어천가|    3|                 37.56|서울특별시 종로구  내수동|              75|\n",
      "|  5|      2004| 15,000|        30|2020|    2|  6|서울특별시|  종로구| 내수동|11110|            광화문시대|   13|                  34.9|서울특별시 종로구  내수동|              74|\n",
      "|  6|      2004|  4,000|        85|2020|    2|  6|서울특별시|  종로구| 내수동|11110|   경희궁의 아침 4단지|    4|                 41.74|서울특별시 종로구  내수동|              73|\n",
      "|  7|      2004| 26,000|         0|2020|    2|  8|서울특별시|  종로구| 내수동|11110|            용비어천가|   14|                 41.38|서울특별시 종로구  내수동|              75|\n",
      "|  8|      2004| 23,000|         0|2020|    2| 11|서울특별시|  종로구| 내수동|11110|   경희궁의 아침 2단지|    2|                 32.43|서울특별시 종로구  내수동|              71|\n",
      "|  9|      2004| 22,000|         0|2020|    2| 11|서울특별시|  종로구| 내수동|11110|            용비어천가|    9|                  33.0|서울특별시 종로구  내수동|              75|\n",
      "| 10|      2004| 22,000|         0|2020|    2| 12|서울특별시|  종로구| 내수동|11110|            광화문시대|   10|                  34.9|서울특별시 종로구  내수동|              74|\n",
      "| 11|      2004| 10,000|        50|2020|    2| 20|서울특별시|  종로구| 내수동|11110|            용비어천가|    5|                  33.0|서울특별시 종로구  내수동|              75|\n",
      "| 12|      2004|  5,000|        90|2020|    2| 24|서울특별시|  종로구| 내수동|11110|            광화문시대|    2|                 38.88|서울특별시 종로구  내수동|              74|\n",
      "| 13|      2004| 12,000|        20|2020|    2| 24|서울특별시|  종로구| 내수동|11110|            광화문시대|   18|                 30.08|서울특별시 종로구  내수동|              74|\n",
      "| 14|      2004| 11,000|        45|2020|    2| 26|서울특별시|  종로구| 내수동|11110|            광화문시대|    4|                 32.01|서울특별시 종로구  내수동|              74|\n",
      "| 15|      2004| 10,000|        95|2020|    2|  6|서울특별시|  종로구| 수송동|11110|      두산위브파빌리온|    4|                 53.02|서울특별시 종로구  수송동|              58|\n",
      "| 16|      2004|  1,000|        60|2020|    2| 11|서울특별시|  종로구| 익선동|11110|BIZ-WELL 종로 오피스텔|    7|                 23.14|서울특별시 종로구  익선동|              34|\n",
      "| 17|      2005|  6,000|        60|2020|    2|  1|서울특별시|  종로구| 경운동|11110|  운현궁 에스케이 허브|    7|                  39.2|서울특별시 종로구  경운동|            89=4|\n",
      "| 18|      2019|  1,000|        80|2020|    2|  5|서울특별시|  종로구| 돈의동|11110|          드래곤팰리스|    6|                 23.07|서울특별시 종로구  돈의동|            41=1|\n",
      "| 19|      2019|  1,000|        70|2020|    2| 11|서울특별시|  종로구| 돈의동|11110|          드래곤팰리스|   10|                 20.25|서울특별시 종로구  돈의동|            41=1|\n",
      "+---+----------+-------+----------+----+-----+---+----------+--------+-------+-----+----------------------+-----+----------------------+-------------------------+----------------+\n",
      "only showing top 20 rows\n",
      "\n"
     ]
    },
    {
     "data": {
      "text/plain": [
       "449174"
      ]
     },
     "execution_count": 10,
     "metadata": {},
     "output_type": "execute_result"
    }
   ],
   "source": [
    "df.show()\n",
    "df.count()"
   ]
  },
  {
   "cell_type": "code",
   "execution_count": 11,
   "id": "88adc487",
   "metadata": {},
   "outputs": [],
   "source": [
    "filter_df = df.na.drop()"
   ]
  },
  {
   "cell_type": "code",
   "execution_count": 12,
   "id": "e5720fda",
   "metadata": {},
   "outputs": [],
   "source": [
    "from pyspark.sql.functions import *"
   ]
  },
  {
   "cell_type": "code",
   "execution_count": 13,
   "id": "96eda73f",
   "metadata": {
    "scrolled": true
   },
   "outputs": [],
   "source": [
    "unique_date_df = filter_df.groupBy(filter_df.year,filter_df.month, filter_df.day).agg(count(\"day\").alias('count'))\n",
    "# agg = exprs에 들어있는 계산식으로 dataframe 계산\n",
    "\n",
    "unique_date_list = unique_date_df.collect()\n",
    "new_date_list = []\n",
    "for unique_date in unique_date_list:\n",
    "    \n",
    "    if unique_date[1] < 10 :\n",
    "        if unique_date[2] < 10 : \n",
    "            date = str(unique_date[0]) + '-' + \"0\" + str(unique_date[1]) + '-' + \"0\" +str(unique_date[2]) + 'T' + \"00:00:00\"\n",
    "        else:\n",
    "            date = str(unique_date[0]) + '-' + \"0\" + str(unique_date[1]) + '-' +str(unique_date[2]) + 'T' + \"00:00:00\"\n",
    "        \n",
    "    else:\n",
    "        if unique_date[2] < 10 : \n",
    "            date = str(unique_date[0]) + '-' + str(unique_date[1]) + '-' + \"0\" +str(unique_date[2]) + 'T' + \"00:00:00\"\n",
    "    \n",
    "        else:\n",
    "            date = str(unique_date[0]) + '-' + str(unique_date[1]) + '-' +str(unique_date[2]) + 'T' + \"00:00:00\"\n",
    "    \n",
    "    \n",
    "    new_date_list.append([unique_date[0], unique_date[1],unique_date[2],date])\n",
    "    \n",
    "unique_date_df = sc.parallelize(new_date_list).toDF(['year','month','day','date'])"
   ]
  },
  {
   "cell_type": "code",
   "execution_count": 14,
   "id": "789758dc",
   "metadata": {},
   "outputs": [
    {
     "name": "stdout",
     "output_type": "stream",
     "text": [
      "+----+-----+---+---+----------+-------+----------+----------+---------------+-----------+-----+------------------------------+-----+----------------------+------------------------------+----------------+-------------------+\n",
      "|year|month|day|_c0|build_year|deposit|rental_fee|      city|       sub_city|       dong| code|                          name|floor|exclusive_private_area|                       address|detailed_address|               date|\n",
      "+----+-----+---+---+----------+-------+----------+----------+---------------+-----------+-----+------------------------------+-----+----------------------+------------------------------+----------------+-------------------+\n",
      "|2017|    1|  1|  1|      2002|  2,500|         0|    경기도|         안성시|대덕면 내리|41550|                  명경오피스텔|    4|                  22.5|     경기도 안성시 대덕면 내리|           694=1|2017-01-01T00:00:00|\n",
      "|2017|    1|  1|  0|      2016|    500|        45|부산광역시|         연제구|     거제동|26470|                   유림제우스B|    2|                 19.16|     부산광역시 연제구  거제동|           751=3|2017-01-01T00:00:00|\n",
      "|2017|    1|  1|116|      2005|  2,000|       120|    경기도|고양시 일산동구|     백석동|41285|                브라운스톤일산|   13|                103.26|경기도 고양시 일산동구  백석동|            1330|2017-01-01T00:00:00|\n",
      "|2017|    1|  1|  0|      2016|  2,000|        55|부산광역시|           동구|     초량동|26170|             신화하니엘 더시티|   14|                 49.13|       부산광역시 동구  초량동|          1145=9|2017-01-01T00:00:00|\n",
      "|2017|    1|  1| 15|      2016|  4,000|        19|부산광역시|         금정구|     장전동|26410|                   네버랜드201|    6|                 18.98|     부산광역시 금정구  장전동|          265=10|2017-01-01T00:00:00|\n",
      "|2017|    1|  1| 26|      2012|  2,500|        18|부산광역시|         사상구|     주례동|26530|                  동양드림하이|    2|                 20.37|     부산광역시 사상구  주례동|           163=1|2017-01-01T00:00:00|\n",
      "|2017|    1|  1|  2|      2015|  4,000|        30|    경기도|  수원시 영통구|     이의동|41117|        광교센트럴푸르지오시티|   13|                 22.62|  경기도 수원시 영통구  이의동|            1338|2017-01-01T00:00:00|\n",
      "|2017|    1|  1|132|      2002|    500|        40|서울특별시|       동대문구|     휘경동|11230|           휘경동 코업레지던스|    7|                 13.86|   서울특별시 동대문구  휘경동|           319=5|2017-01-01T00:00:00|\n",
      "|2017|    1|  1|  1|      2007|  1,000|        50|서울특별시|         관악구|     봉천동|11620|                  한울오피스텔|    7|                 22.33|     서울특별시 관악구  봉천동|          867=10|2017-01-01T00:00:00|\n",
      "|2017|    1|  1| 33|      2012|    200|        48|부산광역시|       부산진구|     전포동|26230|                  오렌지카운티|    7|                  15.6|   부산광역시 부산진구  전포동|           196=2|2017-01-01T00:00:00|\n",
      "|2017|    1|  1| 34|      2002|  4,000|        55|부산광역시|         동래구|     사직동|26260|                 사직동 유로빌|    9|                116.94|     부산광역시 동래구  사직동|            53=3|2017-01-01T00:00:00|\n",
      "|2017|    1|  1|  6|      2016|  2,000|        40|부산광역시|         연제구|     연산동|26470|         연산역 유성해네스타워|   11|                 29.95|     부산광역시 연제구  연산동|           588=7|2017-01-01T00:00:00|\n",
      "|2017|    1|  1|  0|      2016|  3,000|        30|부산광역시|         사상구|     괘법동|26530|              대박힐링오피스텔|   12|                  26.8|     부산광역시 사상구  괘법동|          551=29|2017-01-01T00:00:00|\n",
      "|2017|    1|  1|  3|      2014|  3,000|        30|광주광역시|           서구|     치평동|29140|       중흥에스-클래스스카이31|   24|                 29.94|       광주광역시 서구  치평동|          1203=1|2017-01-01T00:00:00|\n",
      "|2017|    1|  1|  0|      2004|  1,500|        29|광주광역시|           남구|       구동|29155|              남구구동오피스텔|    5|                 30.42|         광주광역시 남구  구동|            1=21|2017-01-01T00:00:00|\n",
      "|2017|    1|  1| 58|      2004| 35,000|         0|서울특별시|           중구|  만리동2가|11140|                  KCC 파크타운|   14|                 66.47|    서울특별시 중구  만리동2가|            11=1|2017-01-01T00:00:00|\n",
      "|2017|    1|  1| 27|      2016|  1,000|        52|서울특별시|       동대문구|   답십리동|11230|                  한일노벨리아|   11|                 19.05| 서울특별시 동대문구  답십리동|           494=1|2017-01-01T00:00:00|\n",
      "|2017|    1|  1|180|      2017|  3,000|       130|서울특별시|         강서구|     마곡동|11500|마곡센트럴대방디엠시티오피스텔|   14|                 56.41|     서울특별시 강서구  마곡동|           776=2|2017-01-01T00:00:00|\n",
      "|2017|    1|  1|  0|      2013| 11,000|         0|서울특별시|         관악구|     봉천동|11620|                          라온|    2|                 17.34|     서울특별시 관악구  봉천동|           868=8|2017-01-01T00:00:00|\n",
      "|2017|    1|  1|  7|      2013|  3,000|        20|부산광역시|         영도구|     동삼동|26200|                  하리타운 A동|    9|                 21.68|     부산광역시 영도구  동삼동|           850=4|2017-01-01T00:00:00|\n",
      "+----+-----+---+---+----------+-------+----------+----------+---------------+-----------+-----+------------------------------+-----+----------------------+------------------------------+----------------+-------------------+\n",
      "only showing top 20 rows\n",
      "\n"
     ]
    },
    {
     "data": {
      "text/plain": [
       "424174"
      ]
     },
     "execution_count": 14,
     "metadata": {},
     "output_type": "execute_result"
    }
   ],
   "source": [
    "added_date_df = filter_df.join(unique_date_df, ['year','month','day']).sort('date')\n",
    "added_date_df.show()\n",
    "added_date_df.count()"
   ]
  },
  {
   "cell_type": "code",
   "execution_count": 15,
   "id": "d6a8aa8d",
   "metadata": {},
   "outputs": [
    {
     "name": "stdout",
     "output_type": "stream",
     "text": [
      "+----+-----+---+---+----------+-------+----------+----------+---------------+-----------+-----+------------------------------+-----+----------------------+------------------------------+----------------+-------------------+\n",
      "|year|month|day|_c0|build_year|deposit|rental_fee|      city|       sub_city|       dong| code|                          name|floor|exclusive_private_area|                       address|detailed_address|               date|\n",
      "+----+-----+---+---+----------+-------+----------+----------+---------------+-----------+-----+------------------------------+-----+----------------------+------------------------------+----------------+-------------------+\n",
      "|2017|    1|  1|  1|      2002|  2,500|         0|    경기도|         안성시|대덕면 내리|41550|                  명경오피스텔|    4|                  22.5|     경기도 안성시 대덕면 내리|           694-1|2017-01-01T00:00:00|\n",
      "|2017|    1|  1|  0|      2016|    500|        45|부산광역시|         연제구|     거제동|26470|                   유림제우스B|    2|                 19.16|     부산광역시 연제구  거제동|           751-3|2017-01-01T00:00:00|\n",
      "|2017|    1|  1|116|      2005|  2,000|       120|    경기도|고양시 일산동구|     백석동|41285|                브라운스톤일산|   13|                103.26|경기도 고양시 일산동구  백석동|            1330|2017-01-01T00:00:00|\n",
      "|2017|    1|  1|  0|      2016|  2,000|        55|부산광역시|           동구|     초량동|26170|             신화하니엘 더시티|   14|                 49.13|       부산광역시 동구  초량동|          1145-9|2017-01-01T00:00:00|\n",
      "|2017|    1|  1| 15|      2016|  4,000|        19|부산광역시|         금정구|     장전동|26410|                   네버랜드201|    6|                 18.98|     부산광역시 금정구  장전동|          265-10|2017-01-01T00:00:00|\n",
      "|2017|    1|  1| 26|      2012|  2,500|        18|부산광역시|         사상구|     주례동|26530|                  동양드림하이|    2|                 20.37|     부산광역시 사상구  주례동|           163-1|2017-01-01T00:00:00|\n",
      "|2017|    1|  1|  2|      2015|  4,000|        30|    경기도|  수원시 영통구|     이의동|41117|        광교센트럴푸르지오시티|   13|                 22.62|  경기도 수원시 영통구  이의동|            1338|2017-01-01T00:00:00|\n",
      "|2017|    1|  1|132|      2002|    500|        40|서울특별시|       동대문구|     휘경동|11230|           휘경동 코업레지던스|    7|                 13.86|   서울특별시 동대문구  휘경동|           319-5|2017-01-01T00:00:00|\n",
      "|2017|    1|  1|  1|      2007|  1,000|        50|서울특별시|         관악구|     봉천동|11620|                  한울오피스텔|    7|                 22.33|     서울특별시 관악구  봉천동|          867-10|2017-01-01T00:00:00|\n",
      "|2017|    1|  1| 33|      2012|    200|        48|부산광역시|       부산진구|     전포동|26230|                  오렌지카운티|    7|                  15.6|   부산광역시 부산진구  전포동|           196-2|2017-01-01T00:00:00|\n",
      "|2017|    1|  1| 34|      2002|  4,000|        55|부산광역시|         동래구|     사직동|26260|                 사직동 유로빌|    9|                116.94|     부산광역시 동래구  사직동|            53-3|2017-01-01T00:00:00|\n",
      "|2017|    1|  1|  6|      2016|  2,000|        40|부산광역시|         연제구|     연산동|26470|         연산역 유성해네스타워|   11|                 29.95|     부산광역시 연제구  연산동|           588-7|2017-01-01T00:00:00|\n",
      "|2017|    1|  1|  0|      2016|  3,000|        30|부산광역시|         사상구|     괘법동|26530|              대박힐링오피스텔|   12|                  26.8|     부산광역시 사상구  괘법동|          551-29|2017-01-01T00:00:00|\n",
      "|2017|    1|  1|  3|      2014|  3,000|        30|광주광역시|           서구|     치평동|29140|       중흥에스-클래스스카이31|   24|                 29.94|       광주광역시 서구  치평동|          1203-1|2017-01-01T00:00:00|\n",
      "|2017|    1|  1|  0|      2004|  1,500|        29|광주광역시|           남구|       구동|29155|              남구구동오피스텔|    5|                 30.42|         광주광역시 남구  구동|            1-21|2017-01-01T00:00:00|\n",
      "|2017|    1|  1| 58|      2004| 35,000|         0|서울특별시|           중구|  만리동2가|11140|                  KCC 파크타운|   14|                 66.47|    서울특별시 중구  만리동2가|            11-1|2017-01-01T00:00:00|\n",
      "|2017|    1|  1| 27|      2016|  1,000|        52|서울특별시|       동대문구|   답십리동|11230|                  한일노벨리아|   11|                 19.05| 서울특별시 동대문구  답십리동|           494-1|2017-01-01T00:00:00|\n",
      "|2017|    1|  1|180|      2017|  3,000|       130|서울특별시|         강서구|     마곡동|11500|마곡센트럴대방디엠시티오피스텔|   14|                 56.41|     서울특별시 강서구  마곡동|           776-2|2017-01-01T00:00:00|\n",
      "|2017|    1|  1|  0|      2013| 11,000|         0|서울특별시|         관악구|     봉천동|11620|                          라온|    2|                 17.34|     서울특별시 관악구  봉천동|           868-8|2017-01-01T00:00:00|\n",
      "|2017|    1|  1|  7|      2013|  3,000|        20|부산광역시|         영도구|     동삼동|26200|                  하리타운 A동|    9|                 21.68|     부산광역시 영도구  동삼동|           850-4|2017-01-01T00:00:00|\n",
      "+----+-----+---+---+----------+-------+----------+----------+---------------+-----------+-----+------------------------------+-----+----------------------+------------------------------+----------------+-------------------+\n",
      "only showing top 20 rows\n",
      "\n"
     ]
    }
   ],
   "source": [
    "added_date_df = added_date_df.withColumn(\"detailed_address\", regexp_replace(col(\"detailed_address\"),\"=\",\"-\"))\n",
    "added_date_df.show()"
   ]
  },
  {
   "cell_type": "code",
   "execution_count": 16,
   "id": "14a51518",
   "metadata": {},
   "outputs": [
    {
     "name": "stdout",
     "output_type": "stream",
     "text": [
      "+-----------------------------+----------------+-----+\n",
      "|                      address|detailed_address|count|\n",
      "+-----------------------------+----------------+-----+\n",
      "| 경기도 수원시 영통구  이의동|            1330|  276|\n",
      "|    대전광역시 유성구  지족동|           863-2|   75|\n",
      "|      경기도 남양주시  다산동|          6060-2|   36|\n",
      "|      서울특별시 중구  흥인동|               8|   21|\n",
      "|    부산광역시 금정구  장전동|          227-12|   12|\n",
      "|    서울특별시 강북구  수유동|            48-1|   85|\n",
      "| 경기도 용인시 수지구  상현동|          1133-2|  163|\n",
      "|    서울특별시 강서구  마곡동|           784-4|  316|\n",
      "|    서울특별시 은평구  불광동|           319-8|   13|\n",
      "|    서울특별시 강동구  암사동|           502-3|   13|\n",
      "|    서울특별시 관악구  봉천동|          912-14|   34|\n",
      "|      서울특별시 도봉구  창동|         731-113|    8|\n",
      "|    서울특별시 강동구  천호동|          167-57|   16|\n",
      "|경상북도 경산시 하양읍 금락리|          161-32|    7|\n",
      "|    서울특별시 금천구  독산동|          331-40|   25|\n",
      "|      충청남도 서산시  읍내동|         102-125|   86|\n",
      "|    서울특별시 강동구  성내동|            43-6|   35|\n",
      "| 경기도 안양시 동안구  호계동|          892-15|   17|\n",
      "|   경기도 용인시 기흥구  중동|          1111-7|   34|\n",
      "|   경기도 안산시 상록구  사동|          1197-4|   28|\n",
      "+-----------------------------+----------------+-----+\n",
      "only showing top 20 rows\n",
      "\n"
     ]
    },
    {
     "data": {
      "text/plain": [
       "11950"
      ]
     },
     "execution_count": 16,
     "metadata": {},
     "output_type": "execute_result"
    }
   ],
   "source": [
    "new_df = added_date_df.groupBy(added_date_df.address,added_date_df.detailed_address).agg(count(\"detailed_address\").alias(\"count\"))\n",
    "new_df.show()\n",
    "new_df.count()"
   ]
  },
  {
   "cell_type": "code",
   "execution_count": 17,
   "id": "a6026e7d",
   "metadata": {},
   "outputs": [
    {
     "name": "stdout",
     "output_type": "stream",
     "text": [
      "+----------+\n",
      "|sum(count)|\n",
      "+----------+\n",
      "|    424174|\n",
      "+----------+\n",
      "\n"
     ]
    }
   ],
   "source": [
    "sum = new_df.select(sum(\"count\"))\n",
    "sum.show()"
   ]
  },
  {
   "cell_type": "code",
   "execution_count": 18,
   "id": "0cc127ea",
   "metadata": {},
   "outputs": [],
   "source": [
    "unique_address_list = new_df.collect()\n",
    "#print (unique_address_list[0][0])"
   ]
  },
  {
   "cell_type": "code",
   "execution_count": 19,
   "id": "28690113",
   "metadata": {},
   "outputs": [],
   "source": [
    "import sys\n",
    "\n",
    "def req_addr(address):\n",
    "    data=0\n",
    "    if '-' in address[1]:\n",
    "        check = str(address[1]).split('-')[0]\n",
    "        if address[1].split('-')[0].isdigit() == False or address[1].split('-')[1].isdigit() == False:\n",
    "            print(address)\n",
    "            print('주소에 글자섞임')\n",
    "            data= 400\n",
    "    if data == 0:\n",
    "        response = kakao_req(address[0] + \" \" + address[1])\n",
    "    else :\n",
    "        return data\n",
    "    if response == '403':\n",
    "        print('빈배열 에러 ' + address[0] + \" \" + address[1])\n",
    "        sleep(5)\n",
    "        data= 3\n",
    "        return data\n",
    "    else :\n",
    "        return response\n",
    "        \n",
    "    "
   ]
  },
  {
   "cell_type": "code",
   "execution_count": 20,
   "id": "899947ae",
   "metadata": {
    "scrolled": true
   },
   "outputs": [
    {
     "name": "stdout",
     "output_type": "stream",
     "text": [
      "11950\n",
      "0.84% completed\n",
      "빈배열 에러 경기도 용인시 기흥구  구갈동 662\n",
      "1.67% completed\n",
      "빈배열 에러 서울특별시 동대문구  용두동 100-8\n",
      "2.51% completed\n",
      "3.35% completed\n",
      "4.18% completed\n",
      "빈배열 에러 경기도 시흥시  정왕동 1771-24\n",
      "5.02% completed\n",
      "5.86% completed\n",
      "빈배열 에러 부산광역시 동래구  온천동 189-49\n",
      "6.69% completed\n",
      "7.53% completed\n",
      "8.37% completed\n",
      "9.21% completed\n",
      "10.04% completed\n",
      "10.88% completed\n",
      "빈배열 에러 경상남도 양산시  평산동 184\n",
      "11.72% completed\n",
      "12.55% completed\n",
      "13.39% completed\n",
      "14.23% completed\n",
      "15.06% completed\n",
      "15.90% completed\n",
      "16.74% completed\n",
      "17.57% completed\n",
      "18.41% completed\n",
      "빈배열 에러 서울특별시 영등포구  영등포동2가 306-2\n",
      "19.25% completed\n",
      "20.08% completed\n",
      "20.92% completed\n",
      "21.76% completed\n",
      "빈배열 에러 경기도 부천시  중동 1153\n",
      "22.59% completed\n",
      "23.43% completed\n",
      "24.27% completed\n",
      "25.10% completed\n",
      "25.94% completed\n",
      "26.78% completed\n",
      "27.62% completed\n",
      "28.45% completed\n",
      "29.29% completed\n",
      "30.13% completed\n",
      "빈배열 에러 서울특별시 관악구  신림동 1430-23\n",
      "30.96% completed\n",
      "31.80% completed\n",
      "32.64% completed\n",
      "33.47% completed\n",
      "34.31% completed\n",
      "35.15% completed\n",
      "35.98% completed\n",
      "36.82% completed\n",
      "빈배열 에러 강원도 원주시  일산동 185-1\n",
      "37.66% completed\n",
      "38.49% completed\n",
      "39.33% completed\n",
      "40.17% completed\n",
      "빈배열 에러 부산광역시 해운대구  우동 588-1\n",
      "41.00% completed\n",
      "41.84% completed\n",
      "42.68% completed\n",
      "43.51% completed\n",
      "44.35% completed\n",
      "45.19% completed\n",
      "46.03% completed\n",
      "46.86% completed\n",
      "47.70% completed\n",
      "빈배열 에러 서울특별시 관악구  봉천동 1667-18\n",
      "48.54% completed\n",
      "49.37% completed\n",
      "50.21% completed\n",
      "51.05% completed\n",
      "51.88% completed\n",
      "52.72% completed\n",
      "53.56% completed\n",
      "54.39% completed\n",
      "빈배열 에러 대구광역시 동구  검사동 990-41\n",
      "55.23% completed\n",
      "56.07% completed\n",
      "56.90% completed\n",
      "57.74% completed\n",
      "58.58% completed\n",
      "59.41% completed\n",
      "60.25% completed\n",
      "61.09% completed\n",
      "빈배열 에러 경기도 용인시 기흥구  구갈동 663\n",
      "61.92% completed\n",
      "62.76% completed\n",
      "63.60% completed\n",
      "64.44% completed\n",
      "65.27% completed\n",
      "66.11% completed\n",
      "66.95% completed\n",
      "67.78% completed\n",
      "68.62% completed\n",
      "빈배열 에러 경기도 오산시  오산동 535-15\n",
      "69.46% completed\n",
      "70.29% completed\n",
      "빈배열 에러 부산광역시 해운대구  반여동 1020\n",
      "71.13% completed\n",
      "71.97% completed\n",
      "72.80% completed\n",
      "73.64% completed\n",
      "74.48% completed\n",
      "75.31% completed\n",
      "76.15% completed\n",
      "76.99% completed\n",
      "77.82% completed\n",
      "78.66% completed\n",
      "79.50% completed\n",
      "80.33% completed\n",
      "81.17% completed\n",
      "빈배열 에러 부산광역시 부산진구  양정동 167-4\n",
      "82.01% completed\n",
      "82.85% completed\n",
      "83.68% completed\n",
      "84.52% completed\n",
      "85.36% completed\n",
      "빈배열 에러 경기도 구리시  교문동 233-20\n",
      "86.19% completed\n",
      "87.03% completed\n",
      "87.87% completed\n",
      "88.70% completed\n",
      "89.54% completed\n",
      "90.38% completed\n",
      "91.21% completed\n",
      "빈배열 에러 충청북도 청주시 상당구  남문로1가동 180-2\n",
      "92.05% completed\n",
      "92.89% completed\n",
      "93.72% completed\n",
      "빈배열 에러 경기도 안양시 만안구  안양동 576-1\n",
      "빈배열 에러 부산광역시 사상구  괘법동 545-11\n",
      "94.56% completed\n",
      "95.40% completed\n",
      "96.23% completed\n",
      "빈배열 에러 경기도 용인시 기흥구  구갈동 658\n",
      "97.07% completed\n",
      "97.91% completed\n",
      "98.74% completed\n",
      "99.58% completed\n"
     ]
    }
   ],
   "source": [
    "\n",
    "location_list = []\n",
    "\n",
    "# checking why no esult data\n",
    "# response = get_location(\"경상북도 영천시 신령면 완전리\") -> 신녕면\n",
    "# print response.status_code\n",
    "# data = response.json()\n",
    "# print data\n",
    "\n",
    "index = 1.0;\n",
    "length = len(unique_address_list)\n",
    "count = 0;\n",
    "print (length)\n",
    "addr2 =unique_address_list[:1]\n",
    "\n",
    "for address in unique_address_list: \n",
    "    #full_address = (address[0] + \" \" + address[1]).encode('utf8')\n",
    "    #print(full_address)\n",
    "    response = req_addr(address)\n",
    "    if response == 400 or response == 3:\n",
    "        continue\n",
    "    if response.status_code == 200:\n",
    "        data = response.json()\n",
    "        x = data['documents'][0]['address']['x']\n",
    "        y = data['documents'][0]['address']['y']\n",
    "        location_list.append([address[0],address[1],y,x])\n",
    "    else: \n",
    "        print (response.json())\n",
    "        count += 1\n",
    "        #print (count)\n",
    "        location_list.append([address[0],address[1] ,np.nan,np.nan])\n",
    "    \n",
    "    if index % 100 == 0:\n",
    "        print ((\"%0.2f\" % (index / length * 100.0)) + \"% completed\")\n",
    "        \n",
    "    index += 1.0"
   ]
  },
  {
   "cell_type": "code",
   "execution_count": 21,
   "id": "de9bcbfe",
   "metadata": {},
   "outputs": [
    {
     "name": "stdout",
     "output_type": "stream",
     "text": [
      "+-----------------------------+----------------+----------------+----------------+\n",
      "|                      address|detailed_address|        latitude|       longitude|\n",
      "+-----------------------------+----------------+----------------+----------------+\n",
      "| 경기도 수원시 영통구  이의동|            1330|37.2925283683075|127.049160071729|\n",
      "|    대전광역시 유성구  지족동|           863-2|36.3825806256824|127.320554874073|\n",
      "|      경기도 남양주시  다산동|          6060-2|37.6244552414091|127.151553661342|\n",
      "|      서울특별시 중구  흥인동|               8|37.5677164459151|127.016349553927|\n",
      "|    부산광역시 금정구  장전동|          227-12|35.2372286857415|129.087989071154|\n",
      "|    서울특별시 강북구  수유동|            48-1|37.6344211076685|127.022862985412|\n",
      "| 경기도 용인시 수지구  상현동|          1133-2|37.2959868892725|127.069970873404|\n",
      "|    서울특별시 강서구  마곡동|           784-4| 37.565515930868|126.840040467869|\n",
      "|    서울특별시 은평구  불광동|           319-8|37.6199384778402|126.924162549321|\n",
      "|    서울특별시 강동구  암사동|           502-3| 37.550953080587|127.126918876322|\n",
      "|    서울특별시 관악구  봉천동|          912-14|37.4825377009476|126.945161024233|\n",
      "|      서울특별시 도봉구  창동|         731-113|37.6568827432129|127.040557178053|\n",
      "|    서울특별시 강동구  천호동|          167-57|37.5388281813469|127.132318119245|\n",
      "|경상북도 경산시 하양읍 금락리|          161-32|35.9079799653822|128.812900975347|\n",
      "|    서울특별시 금천구  독산동|          331-40|37.4667285355886|126.893891434222|\n",
      "|      충청남도 서산시  읍내동|         102-125|36.7775755541126|126.450353810518|\n",
      "|    서울특별시 강동구  성내동|            43-6|37.5365684842159|127.124520376783|\n",
      "| 경기도 안양시 동안구  호계동|          892-15|37.3900678365451|126.942940945215|\n",
      "|   경기도 용인시 기흥구  중동|          1111-7|37.2832168939521|127.141595552508|\n",
      "|   경기도 안산시 상록구  사동|          1197-4|37.3017037893824|126.851100920471|\n",
      "+-----------------------------+----------------+----------------+----------------+\n",
      "only showing top 20 rows\n",
      "\n"
     ]
    }
   ],
   "source": [
    "location = sc.parallelize(location_list).toDF(['address','detailed_address','latitude','longitude'])\n",
    "location.show()"
   ]
  },
  {
   "cell_type": "code",
   "execution_count": 22,
   "id": "d8c1bbfc",
   "metadata": {},
   "outputs": [
    {
     "data": {
      "text/plain": [
       "11929"
      ]
     },
     "execution_count": 22,
     "metadata": {},
     "output_type": "execute_result"
    }
   ],
   "source": [
    "location.count()"
   ]
  },
  {
   "cell_type": "code",
   "execution_count": 23,
   "id": "e119e4fb",
   "metadata": {},
   "outputs": [],
   "source": [
    "joined_df = added_date_df.join(location.select('address','detailed_address','latitude','longitude'), ['address','detailed_address'])"
   ]
  },
  {
   "cell_type": "code",
   "execution_count": 24,
   "id": "a6cf1657",
   "metadata": {},
   "outputs": [
    {
     "name": "stdout",
     "output_type": "stream",
     "text": [
      "+-----------------------+----------------+----+-----+---+---+----------+-------+----------+------+--------+-------+-----+--------------------+-----+----------------------+-------------------+----------------+----------------+\n",
      "|                address|detailed_address|year|month|day|_c0|build_year|deposit|rental_fee|  city|sub_city|   dong| code|                name|floor|exclusive_private_area|               date|        latitude|       longitude|\n",
      "+-----------------------+----------------+----+-----+---+---+----------+-------+----------+------+--------+-------+-----+--------------------+-----+----------------------+-------------------+----------------+----------------+\n",
      "|경기도 남양주시  다산동|          6060-2|2020|    7|  1| 26|      2020|    500|        45|경기도|남양주시| 다산동|41360|다산 중앙하이츠 파크|    7|                 20.62|2020-07-01T00:00:00|37.6244552414091|127.151553661342|\n",
      "|경기도 남양주시  다산동|          6060-2|2020|    5| 19| 50|      2020| 12,000|         0|경기도|남양주시| 다산동|41360|다산 중앙하이츠 파크|    8|                 20.62|2020-05-19T00:00:00|37.6244552414091|127.151553661342|\n",
      "|경기도 남양주시  다산동|          6060-2|2020|    6|  1| 20|      2020|  1,000|        40|경기도|남양주시| 다산동|41360|다산 중앙하이츠 파크|    6|                 20.62|2020-06-01T00:00:00|37.6244552414091|127.151553661342|\n",
      "|경기도 남양주시  다산동|          6060-2|2020|    7| 14| 49|      2020| 12,000|         0|경기도|남양주시| 다산동|41360|다산 중앙하이츠 파크|    6|                 20.15|2020-07-14T00:00:00|37.6244552414091|127.151553661342|\n",
      "|경기도 남양주시  다산동|          6060-2|2020|    7| 24| 67|      2020|  2,000|        42|경기도|남양주시| 다산동|41360|다산 중앙하이츠 파크|    7|                 20.62|2020-07-24T00:00:00|37.6244552414091|127.151553661342|\n",
      "|경기도 남양주시  다산동|          6060-2|2020|    8|  3| 19|      2020|    500|        55|경기도|남양주시| 다산동|41360|다산 중앙하이츠 파크|    5|                 20.62|2020-08-03T00:00:00|37.6244552414091|127.151553661342|\n",
      "|경기도 남양주시  다산동|          6060-2|2020|    5| 28| 64|      2020|  4,000|         0|경기도|남양주시| 다산동|41360|다산 중앙하이츠 파크|    7|                 20.62|2020-05-28T00:00:00|37.6244552414091|127.151553661342|\n",
      "|경기도 남양주시  다산동|          6060-2|2020|    5| 28| 67|      2020|  3,000|        25|경기도|남양주시| 다산동|41360|다산 중앙하이츠 파크|    8|                 20.62|2020-05-28T00:00:00|37.6244552414091|127.151553661342|\n",
      "|경기도 남양주시  다산동|          6060-2|2020|    5| 28| 69|      2020| 11,500|         0|경기도|남양주시| 다산동|41360|다산 중앙하이츠 파크|    7|                 20.62|2020-05-28T00:00:00|37.6244552414091|127.151553661342|\n",
      "|경기도 남양주시  다산동|          6060-2|2020|    6| 10| 34|      2020|    500|        45|경기도|남양주시| 다산동|41360|다산 중앙하이츠 파크|    5|                 20.62|2020-06-10T00:00:00|37.6244552414091|127.151553661342|\n",
      "|경기도 남양주시  다산동|          6060-2|2020|    6| 10| 35|      2020|    500|        45|경기도|남양주시| 다산동|41360|다산 중앙하이츠 파크|    6|                 20.62|2020-06-10T00:00:00|37.6244552414091|127.151553661342|\n",
      "|경기도 남양주시  다산동|          6060-2|2020|   10|  9| 20|      2020| 13,000|         0|경기도|남양주시| 다산동|41360|다산 중앙하이츠 파크|    8|                 20.62|2020-10-09T00:00:00|37.6244552414091|127.151553661342|\n",
      "|경기도 남양주시  다산동|          6060-2|2020|   10| 26| 34|      2020|    500|        50|경기도|남양주시| 다산동|41360|다산 중앙하이츠 파크|    3|                 20.62|2020-10-26T00:00:00|37.6244552414091|127.151553661342|\n",
      "|경기도 남양주시  다산동|          6060-2|2020|    6|  9| 30|      2020|  1,000|        40|경기도|남양주시| 다산동|41360|다산 중앙하이츠 파크|    5|                 20.62|2020-06-09T00:00:00|37.6244552414091|127.151553661342|\n",
      "|경기도 남양주시  다산동|          6060-2|2020|    5| 18| 49|      2020|    500|        45|경기도|남양주시| 다산동|41360|다산 중앙하이츠 파크|    4|                 20.62|2020-05-18T00:00:00|37.6244552414091|127.151553661342|\n",
      "|경기도 남양주시  다산동|          6060-2|2020|   12| 30| 75|      2020|  2,000|        30|경기도|남양주시| 다산동|41360|다산 중앙하이츠 파크|    4|                 20.62|2020-12-30T00:00:00|37.6244552414091|127.151553661342|\n",
      "|경기도 남양주시  다산동|          6060-2|2020|    6| 27| 56|      2020|  3,500|        20|경기도|남양주시| 다산동|41360|다산 중앙하이츠 파크|    4|                 20.62|2020-06-27T00:00:00|37.6244552414091|127.151553661342|\n",
      "|경기도 남양주시  다산동|          6060-2|2020|    6| 19| 48|      2020|  1,000|        40|경기도|남양주시| 다산동|41360|다산 중앙하이츠 파크|    6|                 20.62|2020-06-19T00:00:00|37.6244552414091|127.151553661342|\n",
      "|경기도 남양주시  다산동|          6060-2|2020|    7| 13| 45|      2020| 11,700|         0|경기도|남양주시| 다산동|41360|다산 중앙하이츠 파크|    8|                 20.62|2020-07-13T00:00:00|37.6244552414091|127.151553661342|\n",
      "|경기도 남양주시  다산동|          6060-2|2020|    7| 13| 46|      2020|    500|        50|경기도|남양주시| 다산동|41360|다산 중앙하이츠 파크|    5|                 20.62|2020-07-13T00:00:00|37.6244552414091|127.151553661342|\n",
      "+-----------------------+----------------+----+-----+---+---+----------+-------+----------+------+--------+-------+-----+--------------------+-----+----------------------+-------------------+----------------+----------------+\n",
      "only showing top 20 rows\n",
      "\n"
     ]
    },
    {
     "data": {
      "text/plain": [
       "423220"
      ]
     },
     "execution_count": 24,
     "metadata": {},
     "output_type": "execute_result"
    }
   ],
   "source": [
    "joined_df.show()\n",
    "joined_df.count()"
   ]
  },
  {
   "cell_type": "code",
   "execution_count": 25,
   "id": "48cd9cc5",
   "metadata": {},
   "outputs": [
    {
     "name": "stdout",
     "output_type": "stream",
     "text": [
      "+-----------------------+----------------+----+-----+---+----------+-------+----------+------+--------+-------+-----+--------------------+-----+----------------------+-------------------+----------------+----------------+\n",
      "|                address|detailed_address|year|month|day|build_year|deposit|rental_fee|  city|sub_city|   dong| code|                name|floor|exclusive_private_area|               date|        latitude|       longitude|\n",
      "+-----------------------+----------------+----+-----+---+----------+-------+----------+------+--------+-------+-----+--------------------+-----+----------------------+-------------------+----------------+----------------+\n",
      "|경기도 남양주시  다산동|          6060-2|2020|    7|  1|      2020|    500|        45|경기도|남양주시| 다산동|41360|다산 중앙하이츠 파크|    7|                 20.62|2020-07-01T00:00:00|37.6244552414091|127.151553661342|\n",
      "|경기도 남양주시  다산동|          6060-2|2020|    5| 19|      2020| 12,000|         0|경기도|남양주시| 다산동|41360|다산 중앙하이츠 파크|    8|                 20.62|2020-05-19T00:00:00|37.6244552414091|127.151553661342|\n",
      "|경기도 남양주시  다산동|          6060-2|2020|    6|  1|      2020|  1,000|        40|경기도|남양주시| 다산동|41360|다산 중앙하이츠 파크|    6|                 20.62|2020-06-01T00:00:00|37.6244552414091|127.151553661342|\n",
      "|경기도 남양주시  다산동|          6060-2|2020|    7| 14|      2020| 12,000|         0|경기도|남양주시| 다산동|41360|다산 중앙하이츠 파크|    6|                 20.15|2020-07-14T00:00:00|37.6244552414091|127.151553661342|\n",
      "|경기도 남양주시  다산동|          6060-2|2020|    7| 24|      2020|  2,000|        42|경기도|남양주시| 다산동|41360|다산 중앙하이츠 파크|    7|                 20.62|2020-07-24T00:00:00|37.6244552414091|127.151553661342|\n",
      "|경기도 남양주시  다산동|          6060-2|2020|    8|  3|      2020|    500|        55|경기도|남양주시| 다산동|41360|다산 중앙하이츠 파크|    5|                 20.62|2020-08-03T00:00:00|37.6244552414091|127.151553661342|\n",
      "|경기도 남양주시  다산동|          6060-2|2020|    5| 28|      2020|  4,000|         0|경기도|남양주시| 다산동|41360|다산 중앙하이츠 파크|    7|                 20.62|2020-05-28T00:00:00|37.6244552414091|127.151553661342|\n",
      "|경기도 남양주시  다산동|          6060-2|2020|    5| 28|      2020|  3,000|        25|경기도|남양주시| 다산동|41360|다산 중앙하이츠 파크|    8|                 20.62|2020-05-28T00:00:00|37.6244552414091|127.151553661342|\n",
      "|경기도 남양주시  다산동|          6060-2|2020|    5| 28|      2020| 11,500|         0|경기도|남양주시| 다산동|41360|다산 중앙하이츠 파크|    7|                 20.62|2020-05-28T00:00:00|37.6244552414091|127.151553661342|\n",
      "|경기도 남양주시  다산동|          6060-2|2020|    6| 10|      2020|    500|        45|경기도|남양주시| 다산동|41360|다산 중앙하이츠 파크|    5|                 20.62|2020-06-10T00:00:00|37.6244552414091|127.151553661342|\n",
      "|경기도 남양주시  다산동|          6060-2|2020|    6| 10|      2020|    500|        45|경기도|남양주시| 다산동|41360|다산 중앙하이츠 파크|    6|                 20.62|2020-06-10T00:00:00|37.6244552414091|127.151553661342|\n",
      "|경기도 남양주시  다산동|          6060-2|2020|   10|  9|      2020| 13,000|         0|경기도|남양주시| 다산동|41360|다산 중앙하이츠 파크|    8|                 20.62|2020-10-09T00:00:00|37.6244552414091|127.151553661342|\n",
      "|경기도 남양주시  다산동|          6060-2|2020|   10| 26|      2020|    500|        50|경기도|남양주시| 다산동|41360|다산 중앙하이츠 파크|    3|                 20.62|2020-10-26T00:00:00|37.6244552414091|127.151553661342|\n",
      "|경기도 남양주시  다산동|          6060-2|2020|    6|  9|      2020|  1,000|        40|경기도|남양주시| 다산동|41360|다산 중앙하이츠 파크|    5|                 20.62|2020-06-09T00:00:00|37.6244552414091|127.151553661342|\n",
      "|경기도 남양주시  다산동|          6060-2|2020|    5| 18|      2020|    500|        45|경기도|남양주시| 다산동|41360|다산 중앙하이츠 파크|    4|                 20.62|2020-05-18T00:00:00|37.6244552414091|127.151553661342|\n",
      "|경기도 남양주시  다산동|          6060-2|2020|   12| 30|      2020|  2,000|        30|경기도|남양주시| 다산동|41360|다산 중앙하이츠 파크|    4|                 20.62|2020-12-30T00:00:00|37.6244552414091|127.151553661342|\n",
      "|경기도 남양주시  다산동|          6060-2|2020|    6| 27|      2020|  3,500|        20|경기도|남양주시| 다산동|41360|다산 중앙하이츠 파크|    4|                 20.62|2020-06-27T00:00:00|37.6244552414091|127.151553661342|\n",
      "|경기도 남양주시  다산동|          6060-2|2020|    6| 19|      2020|  1,000|        40|경기도|남양주시| 다산동|41360|다산 중앙하이츠 파크|    6|                 20.62|2020-06-19T00:00:00|37.6244552414091|127.151553661342|\n",
      "|경기도 남양주시  다산동|          6060-2|2020|    7| 13|      2020| 11,700|         0|경기도|남양주시| 다산동|41360|다산 중앙하이츠 파크|    8|                 20.62|2020-07-13T00:00:00|37.6244552414091|127.151553661342|\n",
      "|경기도 남양주시  다산동|          6060-2|2020|    7| 13|      2020|    500|        50|경기도|남양주시| 다산동|41360|다산 중앙하이츠 파크|    5|                 20.62|2020-07-13T00:00:00|37.6244552414091|127.151553661342|\n",
      "+-----------------------+----------------+----+-----+---+----------+-------+----------+------+--------+-------+-----+--------------------+-----+----------------------+-------------------+----------------+----------------+\n",
      "only showing top 20 rows\n",
      "\n"
     ]
    },
    {
     "data": {
      "text/plain": [
       "423220"
      ]
     },
     "execution_count": 25,
     "metadata": {},
     "output_type": "execute_result"
    }
   ],
   "source": [
    "drop_index_df = joined_df.drop(\"_c0\")\n",
    "drop_index_df.show()\n",
    "drop_index_df.count()"
   ]
  },
  {
   "cell_type": "code",
   "execution_count": 26,
   "id": "2a509429",
   "metadata": {},
   "outputs": [
    {
     "name": "stdout",
     "output_type": "stream",
     "text": [
      "+-----------------------+----------------+----+-----+---+----------+-------+----------+------+--------+-------+-----+--------------------+-----+----------------------+-------------------+----------------+----------------+\n",
      "|                address|detailed_address|year|month|day|build_year|deposit|rental_fee|  city|sub_city|   dong| code|                name|floor|exclusive_private_area|               date|        latitude|       longitude|\n",
      "+-----------------------+----------------+----+-----+---+----------+-------+----------+------+--------+-------+-----+--------------------+-----+----------------------+-------------------+----------------+----------------+\n",
      "|경기도 남양주시  다산동|          6060-2|2020|    7|  1|      2020|    500|        45|경기도|남양주시| 다산동|41360|다산 중앙하이츠 파크|    7|                 20.62|2020-07-01T00:00:00|37.6244552414091|127.151553661342|\n",
      "|경기도 남양주시  다산동|          6060-2|2020|    5| 19|      2020|  12000|         0|경기도|남양주시| 다산동|41360|다산 중앙하이츠 파크|    8|                 20.62|2020-05-19T00:00:00|37.6244552414091|127.151553661342|\n",
      "|경기도 남양주시  다산동|          6060-2|2020|    6|  1|      2020|   1000|        40|경기도|남양주시| 다산동|41360|다산 중앙하이츠 파크|    6|                 20.62|2020-06-01T00:00:00|37.6244552414091|127.151553661342|\n",
      "|경기도 남양주시  다산동|          6060-2|2020|    7| 14|      2020|  12000|         0|경기도|남양주시| 다산동|41360|다산 중앙하이츠 파크|    6|                 20.15|2020-07-14T00:00:00|37.6244552414091|127.151553661342|\n",
      "|경기도 남양주시  다산동|          6060-2|2020|    7| 24|      2020|   2000|        42|경기도|남양주시| 다산동|41360|다산 중앙하이츠 파크|    7|                 20.62|2020-07-24T00:00:00|37.6244552414091|127.151553661342|\n",
      "|경기도 남양주시  다산동|          6060-2|2020|    8|  3|      2020|    500|        55|경기도|남양주시| 다산동|41360|다산 중앙하이츠 파크|    5|                 20.62|2020-08-03T00:00:00|37.6244552414091|127.151553661342|\n",
      "|경기도 남양주시  다산동|          6060-2|2020|    5| 28|      2020|   4000|         0|경기도|남양주시| 다산동|41360|다산 중앙하이츠 파크|    7|                 20.62|2020-05-28T00:00:00|37.6244552414091|127.151553661342|\n",
      "|경기도 남양주시  다산동|          6060-2|2020|    5| 28|      2020|   3000|        25|경기도|남양주시| 다산동|41360|다산 중앙하이츠 파크|    8|                 20.62|2020-05-28T00:00:00|37.6244552414091|127.151553661342|\n",
      "|경기도 남양주시  다산동|          6060-2|2020|    5| 28|      2020|  11500|         0|경기도|남양주시| 다산동|41360|다산 중앙하이츠 파크|    7|                 20.62|2020-05-28T00:00:00|37.6244552414091|127.151553661342|\n",
      "|경기도 남양주시  다산동|          6060-2|2020|    6| 10|      2020|    500|        45|경기도|남양주시| 다산동|41360|다산 중앙하이츠 파크|    5|                 20.62|2020-06-10T00:00:00|37.6244552414091|127.151553661342|\n",
      "|경기도 남양주시  다산동|          6060-2|2020|    6| 10|      2020|    500|        45|경기도|남양주시| 다산동|41360|다산 중앙하이츠 파크|    6|                 20.62|2020-06-10T00:00:00|37.6244552414091|127.151553661342|\n",
      "|경기도 남양주시  다산동|          6060-2|2020|   10|  9|      2020|  13000|         0|경기도|남양주시| 다산동|41360|다산 중앙하이츠 파크|    8|                 20.62|2020-10-09T00:00:00|37.6244552414091|127.151553661342|\n",
      "|경기도 남양주시  다산동|          6060-2|2020|   10| 26|      2020|    500|        50|경기도|남양주시| 다산동|41360|다산 중앙하이츠 파크|    3|                 20.62|2020-10-26T00:00:00|37.6244552414091|127.151553661342|\n",
      "|경기도 남양주시  다산동|          6060-2|2020|    6|  9|      2020|   1000|        40|경기도|남양주시| 다산동|41360|다산 중앙하이츠 파크|    5|                 20.62|2020-06-09T00:00:00|37.6244552414091|127.151553661342|\n",
      "|경기도 남양주시  다산동|          6060-2|2020|    5| 18|      2020|    500|        45|경기도|남양주시| 다산동|41360|다산 중앙하이츠 파크|    4|                 20.62|2020-05-18T00:00:00|37.6244552414091|127.151553661342|\n",
      "|경기도 남양주시  다산동|          6060-2|2020|   12| 30|      2020|   2000|        30|경기도|남양주시| 다산동|41360|다산 중앙하이츠 파크|    4|                 20.62|2020-12-30T00:00:00|37.6244552414091|127.151553661342|\n",
      "|경기도 남양주시  다산동|          6060-2|2020|    6| 27|      2020|   3500|        20|경기도|남양주시| 다산동|41360|다산 중앙하이츠 파크|    4|                 20.62|2020-06-27T00:00:00|37.6244552414091|127.151553661342|\n",
      "|경기도 남양주시  다산동|          6060-2|2020|    6| 19|      2020|   1000|        40|경기도|남양주시| 다산동|41360|다산 중앙하이츠 파크|    6|                 20.62|2020-06-19T00:00:00|37.6244552414091|127.151553661342|\n",
      "|경기도 남양주시  다산동|          6060-2|2020|    7| 13|      2020|  11700|         0|경기도|남양주시| 다산동|41360|다산 중앙하이츠 파크|    8|                 20.62|2020-07-13T00:00:00|37.6244552414091|127.151553661342|\n",
      "|경기도 남양주시  다산동|          6060-2|2020|    7| 13|      2020|    500|        50|경기도|남양주시| 다산동|41360|다산 중앙하이츠 파크|    5|                 20.62|2020-07-13T00:00:00|37.6244552414091|127.151553661342|\n",
      "+-----------------------+----------------+----+-----+---+----------+-------+----------+------+--------+-------+-----+--------------------+-----+----------------------+-------------------+----------------+----------------+\n",
      "only showing top 20 rows\n",
      "\n"
     ]
    },
    {
     "data": {
      "text/plain": [
       "423220"
      ]
     },
     "execution_count": 26,
     "metadata": {},
     "output_type": "execute_result"
    }
   ],
   "source": [
    "final_apartment_df = drop_index_df.na.drop()\n",
    "final_apartment_df = final_apartment_df.withColumn('deposit',regexp_replace('deposit',\"\\\\,\", \"\")).withColumn('rental_fee',regexp_replace('rental_fee',\"\\\\,\", \"\"))\n",
    "final_apartment_df.show()\n",
    "final_apartment_df.count()"
   ]
  },
  {
   "cell_type": "code",
   "execution_count": 27,
   "id": "df823fcd",
   "metadata": {},
   "outputs": [],
   "source": [
    "#final_apartment_df.write.format('com.databricks.spark.csv').save('mycsv.csv')\n",
    "final_apartment_df.coalesce(1).write.csv('office_rent.csv')"
   ]
  }
 ],
 "metadata": {
  "kernelspec": {
   "display_name": "Python 3",
   "language": "python",
   "name": "python3"
  },
  "language_info": {
   "codemirror_mode": {
    "name": "ipython",
    "version": 3
   },
   "file_extension": ".py",
   "mimetype": "text/x-python",
   "name": "python",
   "nbconvert_exporter": "python",
   "pygments_lexer": "ipython3",
   "version": "3.8.8"
  }
 },
 "nbformat": 4,
 "nbformat_minor": 5
}
